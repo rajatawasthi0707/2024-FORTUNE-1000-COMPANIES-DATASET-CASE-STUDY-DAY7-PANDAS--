{
  "nbformat": 4,
  "nbformat_minor": 0,
  "metadata": {
    "colab": {
      "provenance": []
    },
    "kernelspec": {
      "name": "python3",
      "display_name": "Python 3"
    },
    "language_info": {
      "name": "python"
    }
  },
  "cells": [
    {
      "cell_type": "code",
      "execution_count": 2,
      "metadata": {
        "id": "4gn3Up3VJew_"
      },
      "outputs": [],
      "source": [
        "import numpy as np\n",
        "import pandas as pd\n",
        "import matplotlib.pyplot as plt\n",
        "import seaborn as sns"
      ]
    },
    {
      "cell_type": "code",
      "source": [
        "df = pd.read_csv('/content/Companies_Data.csv')"
      ],
      "metadata": {
        "id": "N4DWHg6yKdjr"
      },
      "execution_count": 4,
      "outputs": []
    },
    {
      "cell_type": "code",
      "source": [
        "df.head(2)"
      ],
      "metadata": {
        "colab": {
          "base_uri": "https://localhost:8080/",
          "height": 317
        },
        "id": "baD8tn6-KsWQ",
        "outputId": "e6ca35ed-d20a-45c2-d297-7cdd8668880f"
      },
      "execution_count": 5,
      "outputs": [
        {
          "output_type": "execute_result",
          "data": {
            "text/plain": [
              "   Rank  Company Ticker     Sector                         Industry  \\\n",
              "0     1  Walmart    WMT  Retailing            General Merchandisers   \n",
              "1     2   Amazon   AMZN  Retailing  Internet Services and Retailing   \n",
              "\n",
              "  Profitable Founder_is_CEO FemaleCEO Growth_in_Jobs  Change_in_Rank  ...  \\\n",
              "0        yes             no        no             no             0.0  ...   \n",
              "1        yes             no        no             no             0.0  ...   \n",
              "\n",
              "   Assets_M                  CEO Country HeadquartersCity HeadquartersState  \\\n",
              "0  252399.0  C. Douglas McMillon    U.S.      Bentonville          Arkansas   \n",
              "1  527854.0      Andrew R. Jassy    U.S.          Seattle        Washington   \n",
              "\n",
              "                         Website  CompanyType  \\\n",
              "0  https://www.stock.walmart.com       Public   \n",
              "1         https://www.amazon.com       Public   \n",
              "\n",
              "                                            Footnote  MarketCap_Updated_M  \\\n",
              "0  Figures are for fiscal year ended Jan. 31, 202...             559911.0   \n",
              "1                  Market value as of July 15, 2024.            2005565.0   \n",
              "\n",
              "      Updated  \n",
              "0  2024-08-05  \n",
              "1  2024-08-05  \n",
              "\n",
              "[2 rows x 32 columns]"
            ],
            "text/html": [
              "\n",
              "  <div id=\"df-94960d68-15fc-4b1f-999f-23ca9032ce5f\" class=\"colab-df-container\">\n",
              "    <div>\n",
              "<style scoped>\n",
              "    .dataframe tbody tr th:only-of-type {\n",
              "        vertical-align: middle;\n",
              "    }\n",
              "\n",
              "    .dataframe tbody tr th {\n",
              "        vertical-align: top;\n",
              "    }\n",
              "\n",
              "    .dataframe thead th {\n",
              "        text-align: right;\n",
              "    }\n",
              "</style>\n",
              "<table border=\"1\" class=\"dataframe\">\n",
              "  <thead>\n",
              "    <tr style=\"text-align: right;\">\n",
              "      <th></th>\n",
              "      <th>Rank</th>\n",
              "      <th>Company</th>\n",
              "      <th>Ticker</th>\n",
              "      <th>Sector</th>\n",
              "      <th>Industry</th>\n",
              "      <th>Profitable</th>\n",
              "      <th>Founder_is_CEO</th>\n",
              "      <th>FemaleCEO</th>\n",
              "      <th>Growth_in_Jobs</th>\n",
              "      <th>Change_in_Rank</th>\n",
              "      <th>...</th>\n",
              "      <th>Assets_M</th>\n",
              "      <th>CEO</th>\n",
              "      <th>Country</th>\n",
              "      <th>HeadquartersCity</th>\n",
              "      <th>HeadquartersState</th>\n",
              "      <th>Website</th>\n",
              "      <th>CompanyType</th>\n",
              "      <th>Footnote</th>\n",
              "      <th>MarketCap_Updated_M</th>\n",
              "      <th>Updated</th>\n",
              "    </tr>\n",
              "  </thead>\n",
              "  <tbody>\n",
              "    <tr>\n",
              "      <th>0</th>\n",
              "      <td>1</td>\n",
              "      <td>Walmart</td>\n",
              "      <td>WMT</td>\n",
              "      <td>Retailing</td>\n",
              "      <td>General Merchandisers</td>\n",
              "      <td>yes</td>\n",
              "      <td>no</td>\n",
              "      <td>no</td>\n",
              "      <td>no</td>\n",
              "      <td>0.0</td>\n",
              "      <td>...</td>\n",
              "      <td>252399.0</td>\n",
              "      <td>C. Douglas McMillon</td>\n",
              "      <td>U.S.</td>\n",
              "      <td>Bentonville</td>\n",
              "      <td>Arkansas</td>\n",
              "      <td>https://www.stock.walmart.com</td>\n",
              "      <td>Public</td>\n",
              "      <td>Figures are for fiscal year ended Jan. 31, 202...</td>\n",
              "      <td>559911.0</td>\n",
              "      <td>2024-08-05</td>\n",
              "    </tr>\n",
              "    <tr>\n",
              "      <th>1</th>\n",
              "      <td>2</td>\n",
              "      <td>Amazon</td>\n",
              "      <td>AMZN</td>\n",
              "      <td>Retailing</td>\n",
              "      <td>Internet Services and Retailing</td>\n",
              "      <td>yes</td>\n",
              "      <td>no</td>\n",
              "      <td>no</td>\n",
              "      <td>no</td>\n",
              "      <td>0.0</td>\n",
              "      <td>...</td>\n",
              "      <td>527854.0</td>\n",
              "      <td>Andrew R. Jassy</td>\n",
              "      <td>U.S.</td>\n",
              "      <td>Seattle</td>\n",
              "      <td>Washington</td>\n",
              "      <td>https://www.amazon.com</td>\n",
              "      <td>Public</td>\n",
              "      <td>Market value as of July 15, 2024.</td>\n",
              "      <td>2005565.0</td>\n",
              "      <td>2024-08-05</td>\n",
              "    </tr>\n",
              "  </tbody>\n",
              "</table>\n",
              "<p>2 rows × 32 columns</p>\n",
              "</div>\n",
              "    <div class=\"colab-df-buttons\">\n",
              "\n",
              "  <div class=\"colab-df-container\">\n",
              "    <button class=\"colab-df-convert\" onclick=\"convertToInteractive('df-94960d68-15fc-4b1f-999f-23ca9032ce5f')\"\n",
              "            title=\"Convert this dataframe to an interactive table.\"\n",
              "            style=\"display:none;\">\n",
              "\n",
              "  <svg xmlns=\"http://www.w3.org/2000/svg\" height=\"24px\" viewBox=\"0 -960 960 960\">\n",
              "    <path d=\"M120-120v-720h720v720H120Zm60-500h600v-160H180v160Zm220 220h160v-160H400v160Zm0 220h160v-160H400v160ZM180-400h160v-160H180v160Zm440 0h160v-160H620v160ZM180-180h160v-160H180v160Zm440 0h160v-160H620v160Z\"/>\n",
              "  </svg>\n",
              "    </button>\n",
              "\n",
              "  <style>\n",
              "    .colab-df-container {\n",
              "      display:flex;\n",
              "      gap: 12px;\n",
              "    }\n",
              "\n",
              "    .colab-df-convert {\n",
              "      background-color: #E8F0FE;\n",
              "      border: none;\n",
              "      border-radius: 50%;\n",
              "      cursor: pointer;\n",
              "      display: none;\n",
              "      fill: #1967D2;\n",
              "      height: 32px;\n",
              "      padding: 0 0 0 0;\n",
              "      width: 32px;\n",
              "    }\n",
              "\n",
              "    .colab-df-convert:hover {\n",
              "      background-color: #E2EBFA;\n",
              "      box-shadow: 0px 1px 2px rgba(60, 64, 67, 0.3), 0px 1px 3px 1px rgba(60, 64, 67, 0.15);\n",
              "      fill: #174EA6;\n",
              "    }\n",
              "\n",
              "    .colab-df-buttons div {\n",
              "      margin-bottom: 4px;\n",
              "    }\n",
              "\n",
              "    [theme=dark] .colab-df-convert {\n",
              "      background-color: #3B4455;\n",
              "      fill: #D2E3FC;\n",
              "    }\n",
              "\n",
              "    [theme=dark] .colab-df-convert:hover {\n",
              "      background-color: #434B5C;\n",
              "      box-shadow: 0px 1px 3px 1px rgba(0, 0, 0, 0.15);\n",
              "      filter: drop-shadow(0px 1px 2px rgba(0, 0, 0, 0.3));\n",
              "      fill: #FFFFFF;\n",
              "    }\n",
              "  </style>\n",
              "\n",
              "    <script>\n",
              "      const buttonEl =\n",
              "        document.querySelector('#df-94960d68-15fc-4b1f-999f-23ca9032ce5f button.colab-df-convert');\n",
              "      buttonEl.style.display =\n",
              "        google.colab.kernel.accessAllowed ? 'block' : 'none';\n",
              "\n",
              "      async function convertToInteractive(key) {\n",
              "        const element = document.querySelector('#df-94960d68-15fc-4b1f-999f-23ca9032ce5f');\n",
              "        const dataTable =\n",
              "          await google.colab.kernel.invokeFunction('convertToInteractive',\n",
              "                                                    [key], {});\n",
              "        if (!dataTable) return;\n",
              "\n",
              "        const docLinkHtml = 'Like what you see? Visit the ' +\n",
              "          '<a target=\"_blank\" href=https://colab.research.google.com/notebooks/data_table.ipynb>data table notebook</a>'\n",
              "          + ' to learn more about interactive tables.';\n",
              "        element.innerHTML = '';\n",
              "        dataTable['output_type'] = 'display_data';\n",
              "        await google.colab.output.renderOutput(dataTable, element);\n",
              "        const docLink = document.createElement('div');\n",
              "        docLink.innerHTML = docLinkHtml;\n",
              "        element.appendChild(docLink);\n",
              "      }\n",
              "    </script>\n",
              "  </div>\n",
              "\n",
              "\n",
              "<div id=\"df-5ec6fd17-be90-465d-927f-aa142dad7b81\">\n",
              "  <button class=\"colab-df-quickchart\" onclick=\"quickchart('df-5ec6fd17-be90-465d-927f-aa142dad7b81')\"\n",
              "            title=\"Suggest charts\"\n",
              "            style=\"display:none;\">\n",
              "\n",
              "<svg xmlns=\"http://www.w3.org/2000/svg\" height=\"24px\"viewBox=\"0 0 24 24\"\n",
              "     width=\"24px\">\n",
              "    <g>\n",
              "        <path d=\"M19 3H5c-1.1 0-2 .9-2 2v14c0 1.1.9 2 2 2h14c1.1 0 2-.9 2-2V5c0-1.1-.9-2-2-2zM9 17H7v-7h2v7zm4 0h-2V7h2v10zm4 0h-2v-4h2v4z\"/>\n",
              "    </g>\n",
              "</svg>\n",
              "  </button>\n",
              "\n",
              "<style>\n",
              "  .colab-df-quickchart {\n",
              "      --bg-color: #E8F0FE;\n",
              "      --fill-color: #1967D2;\n",
              "      --hover-bg-color: #E2EBFA;\n",
              "      --hover-fill-color: #174EA6;\n",
              "      --disabled-fill-color: #AAA;\n",
              "      --disabled-bg-color: #DDD;\n",
              "  }\n",
              "\n",
              "  [theme=dark] .colab-df-quickchart {\n",
              "      --bg-color: #3B4455;\n",
              "      --fill-color: #D2E3FC;\n",
              "      --hover-bg-color: #434B5C;\n",
              "      --hover-fill-color: #FFFFFF;\n",
              "      --disabled-bg-color: #3B4455;\n",
              "      --disabled-fill-color: #666;\n",
              "  }\n",
              "\n",
              "  .colab-df-quickchart {\n",
              "    background-color: var(--bg-color);\n",
              "    border: none;\n",
              "    border-radius: 50%;\n",
              "    cursor: pointer;\n",
              "    display: none;\n",
              "    fill: var(--fill-color);\n",
              "    height: 32px;\n",
              "    padding: 0;\n",
              "    width: 32px;\n",
              "  }\n",
              "\n",
              "  .colab-df-quickchart:hover {\n",
              "    background-color: var(--hover-bg-color);\n",
              "    box-shadow: 0 1px 2px rgba(60, 64, 67, 0.3), 0 1px 3px 1px rgba(60, 64, 67, 0.15);\n",
              "    fill: var(--button-hover-fill-color);\n",
              "  }\n",
              "\n",
              "  .colab-df-quickchart-complete:disabled,\n",
              "  .colab-df-quickchart-complete:disabled:hover {\n",
              "    background-color: var(--disabled-bg-color);\n",
              "    fill: var(--disabled-fill-color);\n",
              "    box-shadow: none;\n",
              "  }\n",
              "\n",
              "  .colab-df-spinner {\n",
              "    border: 2px solid var(--fill-color);\n",
              "    border-color: transparent;\n",
              "    border-bottom-color: var(--fill-color);\n",
              "    animation:\n",
              "      spin 1s steps(1) infinite;\n",
              "  }\n",
              "\n",
              "  @keyframes spin {\n",
              "    0% {\n",
              "      border-color: transparent;\n",
              "      border-bottom-color: var(--fill-color);\n",
              "      border-left-color: var(--fill-color);\n",
              "    }\n",
              "    20% {\n",
              "      border-color: transparent;\n",
              "      border-left-color: var(--fill-color);\n",
              "      border-top-color: var(--fill-color);\n",
              "    }\n",
              "    30% {\n",
              "      border-color: transparent;\n",
              "      border-left-color: var(--fill-color);\n",
              "      border-top-color: var(--fill-color);\n",
              "      border-right-color: var(--fill-color);\n",
              "    }\n",
              "    40% {\n",
              "      border-color: transparent;\n",
              "      border-right-color: var(--fill-color);\n",
              "      border-top-color: var(--fill-color);\n",
              "    }\n",
              "    60% {\n",
              "      border-color: transparent;\n",
              "      border-right-color: var(--fill-color);\n",
              "    }\n",
              "    80% {\n",
              "      border-color: transparent;\n",
              "      border-right-color: var(--fill-color);\n",
              "      border-bottom-color: var(--fill-color);\n",
              "    }\n",
              "    90% {\n",
              "      border-color: transparent;\n",
              "      border-bottom-color: var(--fill-color);\n",
              "    }\n",
              "  }\n",
              "</style>\n",
              "\n",
              "  <script>\n",
              "    async function quickchart(key) {\n",
              "      const quickchartButtonEl =\n",
              "        document.querySelector('#' + key + ' button');\n",
              "      quickchartButtonEl.disabled = true;  // To prevent multiple clicks.\n",
              "      quickchartButtonEl.classList.add('colab-df-spinner');\n",
              "      try {\n",
              "        const charts = await google.colab.kernel.invokeFunction(\n",
              "            'suggestCharts', [key], {});\n",
              "      } catch (error) {\n",
              "        console.error('Error during call to suggestCharts:', error);\n",
              "      }\n",
              "      quickchartButtonEl.classList.remove('colab-df-spinner');\n",
              "      quickchartButtonEl.classList.add('colab-df-quickchart-complete');\n",
              "    }\n",
              "    (() => {\n",
              "      let quickchartButtonEl =\n",
              "        document.querySelector('#df-5ec6fd17-be90-465d-927f-aa142dad7b81 button');\n",
              "      quickchartButtonEl.style.display =\n",
              "        google.colab.kernel.accessAllowed ? 'block' : 'none';\n",
              "    })();\n",
              "  </script>\n",
              "</div>\n",
              "\n",
              "    </div>\n",
              "  </div>\n"
            ],
            "application/vnd.google.colaboratory.intrinsic+json": {
              "type": "dataframe",
              "variable_name": "df"
            }
          },
          "metadata": {},
          "execution_count": 5
        }
      ]
    },
    {
      "cell_type": "code",
      "source": [
        "df.set_index('Rank',inplace=True)"
      ],
      "metadata": {
        "id": "OgCy35E4LLye"
      },
      "execution_count": 6,
      "outputs": []
    },
    {
      "cell_type": "code",
      "source": [
        "df.info()"
      ],
      "metadata": {
        "colab": {
          "base_uri": "https://localhost:8080/"
        },
        "id": "T41EgJdDLTTF",
        "outputId": "cd1cc7cd-3d49-4d53-c994-90971356e436"
      },
      "execution_count": 7,
      "outputs": [
        {
          "output_type": "stream",
          "name": "stdout",
          "text": [
            "<class 'pandas.core.frame.DataFrame'>\n",
            "Index: 1000 entries, 1 to 1000\n",
            "Data columns (total 31 columns):\n",
            " #   Column                         Non-Null Count  Dtype  \n",
            "---  ------                         --------------  -----  \n",
            " 0   Company                        1000 non-null   object \n",
            " 1   Ticker                         959 non-null    object \n",
            " 2   Sector                         1000 non-null   object \n",
            " 3   Industry                       1000 non-null   object \n",
            " 4   Profitable                     1000 non-null   object \n",
            " 5   Founder_is_CEO                 1000 non-null   object \n",
            " 6   FemaleCEO                      1000 non-null   object \n",
            " 7   Growth_in_Jobs                 1000 non-null   object \n",
            " 8   Change_in_Rank                 1000 non-null   float64\n",
            " 9   Gained_in_Rank                 1000 non-null   object \n",
            " 10  Dropped_in_Rank                1000 non-null   object \n",
            " 11  Newcomer_to_the_Fortune500     500 non-null    object \n",
            " 12  Global500                      1000 non-null   object \n",
            " 13  Worlds_Most_Admired_Companies  1000 non-null   object \n",
            " 14  Best_Companies_to_Work_For     1000 non-null   object \n",
            " 15  Number_of_employees            1000 non-null   int64  \n",
            " 16  MarketCap_March28_M            959 non-null    float64\n",
            " 17  Revenues_M                     1000 non-null   float64\n",
            " 18  RevenuePercentChange           994 non-null    float64\n",
            " 19  Profits_M                      998 non-null    float64\n",
            " 20  ProfitsPercentChange           850 non-null    float64\n",
            " 21  Assets_M                       1000 non-null   float64\n",
            " 22  CEO                            1000 non-null   object \n",
            " 23  Country                        1000 non-null   object \n",
            " 24  HeadquartersCity               1000 non-null   object \n",
            " 25  HeadquartersState              1000 non-null   object \n",
            " 26  Website                        1000 non-null   object \n",
            " 27  CompanyType                    1000 non-null   object \n",
            " 28  Footnote                       1000 non-null   object \n",
            " 29  MarketCap_Updated_M            963 non-null    float64\n",
            " 30  Updated                        1000 non-null   object \n",
            "dtypes: float64(8), int64(1), object(22)\n",
            "memory usage: 250.0+ KB\n"
          ]
        }
      ]
    },
    {
      "cell_type": "code",
      "source": [
        "df.isnull().sum()"
      ],
      "metadata": {
        "colab": {
          "base_uri": "https://localhost:8080/",
          "height": 1000
        },
        "id": "z4WqXdPVLX6H",
        "outputId": "43de7139-6eb8-4103-8889-450b32704c48"
      },
      "execution_count": 8,
      "outputs": [
        {
          "output_type": "execute_result",
          "data": {
            "text/plain": [
              "Company                            0\n",
              "Ticker                            41\n",
              "Sector                             0\n",
              "Industry                           0\n",
              "Profitable                         0\n",
              "Founder_is_CEO                     0\n",
              "FemaleCEO                          0\n",
              "Growth_in_Jobs                     0\n",
              "Change_in_Rank                     0\n",
              "Gained_in_Rank                     0\n",
              "Dropped_in_Rank                    0\n",
              "Newcomer_to_the_Fortune500       500\n",
              "Global500                          0\n",
              "Worlds_Most_Admired_Companies      0\n",
              "Best_Companies_to_Work_For         0\n",
              "Number_of_employees                0\n",
              "MarketCap_March28_M               41\n",
              "Revenues_M                         0\n",
              "RevenuePercentChange               6\n",
              "Profits_M                          2\n",
              "ProfitsPercentChange             150\n",
              "Assets_M                           0\n",
              "CEO                                0\n",
              "Country                            0\n",
              "HeadquartersCity                   0\n",
              "HeadquartersState                  0\n",
              "Website                            0\n",
              "CompanyType                        0\n",
              "Footnote                           0\n",
              "MarketCap_Updated_M               37\n",
              "Updated                            0\n",
              "dtype: int64"
            ],
            "text/html": [
              "<div>\n",
              "<style scoped>\n",
              "    .dataframe tbody tr th:only-of-type {\n",
              "        vertical-align: middle;\n",
              "    }\n",
              "\n",
              "    .dataframe tbody tr th {\n",
              "        vertical-align: top;\n",
              "    }\n",
              "\n",
              "    .dataframe thead th {\n",
              "        text-align: right;\n",
              "    }\n",
              "</style>\n",
              "<table border=\"1\" class=\"dataframe\">\n",
              "  <thead>\n",
              "    <tr style=\"text-align: right;\">\n",
              "      <th></th>\n",
              "      <th>0</th>\n",
              "    </tr>\n",
              "  </thead>\n",
              "  <tbody>\n",
              "    <tr>\n",
              "      <th>Company</th>\n",
              "      <td>0</td>\n",
              "    </tr>\n",
              "    <tr>\n",
              "      <th>Ticker</th>\n",
              "      <td>41</td>\n",
              "    </tr>\n",
              "    <tr>\n",
              "      <th>Sector</th>\n",
              "      <td>0</td>\n",
              "    </tr>\n",
              "    <tr>\n",
              "      <th>Industry</th>\n",
              "      <td>0</td>\n",
              "    </tr>\n",
              "    <tr>\n",
              "      <th>Profitable</th>\n",
              "      <td>0</td>\n",
              "    </tr>\n",
              "    <tr>\n",
              "      <th>Founder_is_CEO</th>\n",
              "      <td>0</td>\n",
              "    </tr>\n",
              "    <tr>\n",
              "      <th>FemaleCEO</th>\n",
              "      <td>0</td>\n",
              "    </tr>\n",
              "    <tr>\n",
              "      <th>Growth_in_Jobs</th>\n",
              "      <td>0</td>\n",
              "    </tr>\n",
              "    <tr>\n",
              "      <th>Change_in_Rank</th>\n",
              "      <td>0</td>\n",
              "    </tr>\n",
              "    <tr>\n",
              "      <th>Gained_in_Rank</th>\n",
              "      <td>0</td>\n",
              "    </tr>\n",
              "    <tr>\n",
              "      <th>Dropped_in_Rank</th>\n",
              "      <td>0</td>\n",
              "    </tr>\n",
              "    <tr>\n",
              "      <th>Newcomer_to_the_Fortune500</th>\n",
              "      <td>500</td>\n",
              "    </tr>\n",
              "    <tr>\n",
              "      <th>Global500</th>\n",
              "      <td>0</td>\n",
              "    </tr>\n",
              "    <tr>\n",
              "      <th>Worlds_Most_Admired_Companies</th>\n",
              "      <td>0</td>\n",
              "    </tr>\n",
              "    <tr>\n",
              "      <th>Best_Companies_to_Work_For</th>\n",
              "      <td>0</td>\n",
              "    </tr>\n",
              "    <tr>\n",
              "      <th>Number_of_employees</th>\n",
              "      <td>0</td>\n",
              "    </tr>\n",
              "    <tr>\n",
              "      <th>MarketCap_March28_M</th>\n",
              "      <td>41</td>\n",
              "    </tr>\n",
              "    <tr>\n",
              "      <th>Revenues_M</th>\n",
              "      <td>0</td>\n",
              "    </tr>\n",
              "    <tr>\n",
              "      <th>RevenuePercentChange</th>\n",
              "      <td>6</td>\n",
              "    </tr>\n",
              "    <tr>\n",
              "      <th>Profits_M</th>\n",
              "      <td>2</td>\n",
              "    </tr>\n",
              "    <tr>\n",
              "      <th>ProfitsPercentChange</th>\n",
              "      <td>150</td>\n",
              "    </tr>\n",
              "    <tr>\n",
              "      <th>Assets_M</th>\n",
              "      <td>0</td>\n",
              "    </tr>\n",
              "    <tr>\n",
              "      <th>CEO</th>\n",
              "      <td>0</td>\n",
              "    </tr>\n",
              "    <tr>\n",
              "      <th>Country</th>\n",
              "      <td>0</td>\n",
              "    </tr>\n",
              "    <tr>\n",
              "      <th>HeadquartersCity</th>\n",
              "      <td>0</td>\n",
              "    </tr>\n",
              "    <tr>\n",
              "      <th>HeadquartersState</th>\n",
              "      <td>0</td>\n",
              "    </tr>\n",
              "    <tr>\n",
              "      <th>Website</th>\n",
              "      <td>0</td>\n",
              "    </tr>\n",
              "    <tr>\n",
              "      <th>CompanyType</th>\n",
              "      <td>0</td>\n",
              "    </tr>\n",
              "    <tr>\n",
              "      <th>Footnote</th>\n",
              "      <td>0</td>\n",
              "    </tr>\n",
              "    <tr>\n",
              "      <th>MarketCap_Updated_M</th>\n",
              "      <td>37</td>\n",
              "    </tr>\n",
              "    <tr>\n",
              "      <th>Updated</th>\n",
              "      <td>0</td>\n",
              "    </tr>\n",
              "  </tbody>\n",
              "</table>\n",
              "</div><br><label><b>dtype:</b> int64</label>"
            ]
          },
          "metadata": {},
          "execution_count": 8
        }
      ]
    },
    {
      "cell_type": "markdown",
      "source": [
        "#### As Newcomer_to_the_Fortune500 COLUMN have 500 null values so we need to drop that column"
      ],
      "metadata": {
        "id": "8_1wR8T0MAKA"
      }
    },
    {
      "cell_type": "code",
      "source": [
        "df.drop(columns=['Newcomer_to_the_Fortune500'],inplace=True)"
      ],
      "metadata": {
        "id": "6GMxLKgPLfgI"
      },
      "execution_count": 9,
      "outputs": []
    },
    {
      "cell_type": "code",
      "source": [
        "df.isnull().sum()"
      ],
      "metadata": {
        "colab": {
          "base_uri": "https://localhost:8080/",
          "height": 1000
        },
        "id": "0GCcyhEFMN-n",
        "outputId": "08560044-9272-4d9c-f291-fc31fffdd40b"
      },
      "execution_count": 10,
      "outputs": [
        {
          "output_type": "execute_result",
          "data": {
            "text/plain": [
              "Company                            0\n",
              "Ticker                            41\n",
              "Sector                             0\n",
              "Industry                           0\n",
              "Profitable                         0\n",
              "Founder_is_CEO                     0\n",
              "FemaleCEO                          0\n",
              "Growth_in_Jobs                     0\n",
              "Change_in_Rank                     0\n",
              "Gained_in_Rank                     0\n",
              "Dropped_in_Rank                    0\n",
              "Global500                          0\n",
              "Worlds_Most_Admired_Companies      0\n",
              "Best_Companies_to_Work_For         0\n",
              "Number_of_employees                0\n",
              "MarketCap_March28_M               41\n",
              "Revenues_M                         0\n",
              "RevenuePercentChange               6\n",
              "Profits_M                          2\n",
              "ProfitsPercentChange             150\n",
              "Assets_M                           0\n",
              "CEO                                0\n",
              "Country                            0\n",
              "HeadquartersCity                   0\n",
              "HeadquartersState                  0\n",
              "Website                            0\n",
              "CompanyType                        0\n",
              "Footnote                           0\n",
              "MarketCap_Updated_M               37\n",
              "Updated                            0\n",
              "dtype: int64"
            ],
            "text/html": [
              "<div>\n",
              "<style scoped>\n",
              "    .dataframe tbody tr th:only-of-type {\n",
              "        vertical-align: middle;\n",
              "    }\n",
              "\n",
              "    .dataframe tbody tr th {\n",
              "        vertical-align: top;\n",
              "    }\n",
              "\n",
              "    .dataframe thead th {\n",
              "        text-align: right;\n",
              "    }\n",
              "</style>\n",
              "<table border=\"1\" class=\"dataframe\">\n",
              "  <thead>\n",
              "    <tr style=\"text-align: right;\">\n",
              "      <th></th>\n",
              "      <th>0</th>\n",
              "    </tr>\n",
              "  </thead>\n",
              "  <tbody>\n",
              "    <tr>\n",
              "      <th>Company</th>\n",
              "      <td>0</td>\n",
              "    </tr>\n",
              "    <tr>\n",
              "      <th>Ticker</th>\n",
              "      <td>41</td>\n",
              "    </tr>\n",
              "    <tr>\n",
              "      <th>Sector</th>\n",
              "      <td>0</td>\n",
              "    </tr>\n",
              "    <tr>\n",
              "      <th>Industry</th>\n",
              "      <td>0</td>\n",
              "    </tr>\n",
              "    <tr>\n",
              "      <th>Profitable</th>\n",
              "      <td>0</td>\n",
              "    </tr>\n",
              "    <tr>\n",
              "      <th>Founder_is_CEO</th>\n",
              "      <td>0</td>\n",
              "    </tr>\n",
              "    <tr>\n",
              "      <th>FemaleCEO</th>\n",
              "      <td>0</td>\n",
              "    </tr>\n",
              "    <tr>\n",
              "      <th>Growth_in_Jobs</th>\n",
              "      <td>0</td>\n",
              "    </tr>\n",
              "    <tr>\n",
              "      <th>Change_in_Rank</th>\n",
              "      <td>0</td>\n",
              "    </tr>\n",
              "    <tr>\n",
              "      <th>Gained_in_Rank</th>\n",
              "      <td>0</td>\n",
              "    </tr>\n",
              "    <tr>\n",
              "      <th>Dropped_in_Rank</th>\n",
              "      <td>0</td>\n",
              "    </tr>\n",
              "    <tr>\n",
              "      <th>Global500</th>\n",
              "      <td>0</td>\n",
              "    </tr>\n",
              "    <tr>\n",
              "      <th>Worlds_Most_Admired_Companies</th>\n",
              "      <td>0</td>\n",
              "    </tr>\n",
              "    <tr>\n",
              "      <th>Best_Companies_to_Work_For</th>\n",
              "      <td>0</td>\n",
              "    </tr>\n",
              "    <tr>\n",
              "      <th>Number_of_employees</th>\n",
              "      <td>0</td>\n",
              "    </tr>\n",
              "    <tr>\n",
              "      <th>MarketCap_March28_M</th>\n",
              "      <td>41</td>\n",
              "    </tr>\n",
              "    <tr>\n",
              "      <th>Revenues_M</th>\n",
              "      <td>0</td>\n",
              "    </tr>\n",
              "    <tr>\n",
              "      <th>RevenuePercentChange</th>\n",
              "      <td>6</td>\n",
              "    </tr>\n",
              "    <tr>\n",
              "      <th>Profits_M</th>\n",
              "      <td>2</td>\n",
              "    </tr>\n",
              "    <tr>\n",
              "      <th>ProfitsPercentChange</th>\n",
              "      <td>150</td>\n",
              "    </tr>\n",
              "    <tr>\n",
              "      <th>Assets_M</th>\n",
              "      <td>0</td>\n",
              "    </tr>\n",
              "    <tr>\n",
              "      <th>CEO</th>\n",
              "      <td>0</td>\n",
              "    </tr>\n",
              "    <tr>\n",
              "      <th>Country</th>\n",
              "      <td>0</td>\n",
              "    </tr>\n",
              "    <tr>\n",
              "      <th>HeadquartersCity</th>\n",
              "      <td>0</td>\n",
              "    </tr>\n",
              "    <tr>\n",
              "      <th>HeadquartersState</th>\n",
              "      <td>0</td>\n",
              "    </tr>\n",
              "    <tr>\n",
              "      <th>Website</th>\n",
              "      <td>0</td>\n",
              "    </tr>\n",
              "    <tr>\n",
              "      <th>CompanyType</th>\n",
              "      <td>0</td>\n",
              "    </tr>\n",
              "    <tr>\n",
              "      <th>Footnote</th>\n",
              "      <td>0</td>\n",
              "    </tr>\n",
              "    <tr>\n",
              "      <th>MarketCap_Updated_M</th>\n",
              "      <td>37</td>\n",
              "    </tr>\n",
              "    <tr>\n",
              "      <th>Updated</th>\n",
              "      <td>0</td>\n",
              "    </tr>\n",
              "  </tbody>\n",
              "</table>\n",
              "</div><br><label><b>dtype:</b> int64</label>"
            ]
          },
          "metadata": {},
          "execution_count": 10
        }
      ]
    },
    {
      "cell_type": "code",
      "source": [
        "df.dropna(inplace=True)"
      ],
      "metadata": {
        "id": "NzmkV4EXMbOW"
      },
      "execution_count": 11,
      "outputs": []
    },
    {
      "cell_type": "code",
      "source": [
        "df.isna().sum()"
      ],
      "metadata": {
        "colab": {
          "base_uri": "https://localhost:8080/",
          "height": 1000
        },
        "id": "CV6Z1_vEMn9x",
        "outputId": "b4130db2-28ad-4b53-ef97-1d9fae3c01ea"
      },
      "execution_count": 12,
      "outputs": [
        {
          "output_type": "execute_result",
          "data": {
            "text/plain": [
              "Company                          0\n",
              "Ticker                           0\n",
              "Sector                           0\n",
              "Industry                         0\n",
              "Profitable                       0\n",
              "Founder_is_CEO                   0\n",
              "FemaleCEO                        0\n",
              "Growth_in_Jobs                   0\n",
              "Change_in_Rank                   0\n",
              "Gained_in_Rank                   0\n",
              "Dropped_in_Rank                  0\n",
              "Global500                        0\n",
              "Worlds_Most_Admired_Companies    0\n",
              "Best_Companies_to_Work_For       0\n",
              "Number_of_employees              0\n",
              "MarketCap_March28_M              0\n",
              "Revenues_M                       0\n",
              "RevenuePercentChange             0\n",
              "Profits_M                        0\n",
              "ProfitsPercentChange             0\n",
              "Assets_M                         0\n",
              "CEO                              0\n",
              "Country                          0\n",
              "HeadquartersCity                 0\n",
              "HeadquartersState                0\n",
              "Website                          0\n",
              "CompanyType                      0\n",
              "Footnote                         0\n",
              "MarketCap_Updated_M              0\n",
              "Updated                          0\n",
              "dtype: int64"
            ],
            "text/html": [
              "<div>\n",
              "<style scoped>\n",
              "    .dataframe tbody tr th:only-of-type {\n",
              "        vertical-align: middle;\n",
              "    }\n",
              "\n",
              "    .dataframe tbody tr th {\n",
              "        vertical-align: top;\n",
              "    }\n",
              "\n",
              "    .dataframe thead th {\n",
              "        text-align: right;\n",
              "    }\n",
              "</style>\n",
              "<table border=\"1\" class=\"dataframe\">\n",
              "  <thead>\n",
              "    <tr style=\"text-align: right;\">\n",
              "      <th></th>\n",
              "      <th>0</th>\n",
              "    </tr>\n",
              "  </thead>\n",
              "  <tbody>\n",
              "    <tr>\n",
              "      <th>Company</th>\n",
              "      <td>0</td>\n",
              "    </tr>\n",
              "    <tr>\n",
              "      <th>Ticker</th>\n",
              "      <td>0</td>\n",
              "    </tr>\n",
              "    <tr>\n",
              "      <th>Sector</th>\n",
              "      <td>0</td>\n",
              "    </tr>\n",
              "    <tr>\n",
              "      <th>Industry</th>\n",
              "      <td>0</td>\n",
              "    </tr>\n",
              "    <tr>\n",
              "      <th>Profitable</th>\n",
              "      <td>0</td>\n",
              "    </tr>\n",
              "    <tr>\n",
              "      <th>Founder_is_CEO</th>\n",
              "      <td>0</td>\n",
              "    </tr>\n",
              "    <tr>\n",
              "      <th>FemaleCEO</th>\n",
              "      <td>0</td>\n",
              "    </tr>\n",
              "    <tr>\n",
              "      <th>Growth_in_Jobs</th>\n",
              "      <td>0</td>\n",
              "    </tr>\n",
              "    <tr>\n",
              "      <th>Change_in_Rank</th>\n",
              "      <td>0</td>\n",
              "    </tr>\n",
              "    <tr>\n",
              "      <th>Gained_in_Rank</th>\n",
              "      <td>0</td>\n",
              "    </tr>\n",
              "    <tr>\n",
              "      <th>Dropped_in_Rank</th>\n",
              "      <td>0</td>\n",
              "    </tr>\n",
              "    <tr>\n",
              "      <th>Global500</th>\n",
              "      <td>0</td>\n",
              "    </tr>\n",
              "    <tr>\n",
              "      <th>Worlds_Most_Admired_Companies</th>\n",
              "      <td>0</td>\n",
              "    </tr>\n",
              "    <tr>\n",
              "      <th>Best_Companies_to_Work_For</th>\n",
              "      <td>0</td>\n",
              "    </tr>\n",
              "    <tr>\n",
              "      <th>Number_of_employees</th>\n",
              "      <td>0</td>\n",
              "    </tr>\n",
              "    <tr>\n",
              "      <th>MarketCap_March28_M</th>\n",
              "      <td>0</td>\n",
              "    </tr>\n",
              "    <tr>\n",
              "      <th>Revenues_M</th>\n",
              "      <td>0</td>\n",
              "    </tr>\n",
              "    <tr>\n",
              "      <th>RevenuePercentChange</th>\n",
              "      <td>0</td>\n",
              "    </tr>\n",
              "    <tr>\n",
              "      <th>Profits_M</th>\n",
              "      <td>0</td>\n",
              "    </tr>\n",
              "    <tr>\n",
              "      <th>ProfitsPercentChange</th>\n",
              "      <td>0</td>\n",
              "    </tr>\n",
              "    <tr>\n",
              "      <th>Assets_M</th>\n",
              "      <td>0</td>\n",
              "    </tr>\n",
              "    <tr>\n",
              "      <th>CEO</th>\n",
              "      <td>0</td>\n",
              "    </tr>\n",
              "    <tr>\n",
              "      <th>Country</th>\n",
              "      <td>0</td>\n",
              "    </tr>\n",
              "    <tr>\n",
              "      <th>HeadquartersCity</th>\n",
              "      <td>0</td>\n",
              "    </tr>\n",
              "    <tr>\n",
              "      <th>HeadquartersState</th>\n",
              "      <td>0</td>\n",
              "    </tr>\n",
              "    <tr>\n",
              "      <th>Website</th>\n",
              "      <td>0</td>\n",
              "    </tr>\n",
              "    <tr>\n",
              "      <th>CompanyType</th>\n",
              "      <td>0</td>\n",
              "    </tr>\n",
              "    <tr>\n",
              "      <th>Footnote</th>\n",
              "      <td>0</td>\n",
              "    </tr>\n",
              "    <tr>\n",
              "      <th>MarketCap_Updated_M</th>\n",
              "      <td>0</td>\n",
              "    </tr>\n",
              "    <tr>\n",
              "      <th>Updated</th>\n",
              "      <td>0</td>\n",
              "    </tr>\n",
              "  </tbody>\n",
              "</table>\n",
              "</div><br><label><b>dtype:</b> int64</label>"
            ]
          },
          "metadata": {},
          "execution_count": 12
        }
      ]
    },
    {
      "cell_type": "markdown",
      "source": [
        "#### Data is cleaned now no null values We will check for duplicate values"
      ],
      "metadata": {
        "id": "ItlSmHl1Mu1b"
      }
    },
    {
      "cell_type": "code",
      "source": [
        "df.duplicated().sum()"
      ],
      "metadata": {
        "colab": {
          "base_uri": "https://localhost:8080/"
        },
        "id": "tj6GLg-eMtve",
        "outputId": "e2473216-4614-481a-fe1c-484cbd673ef4"
      },
      "execution_count": 13,
      "outputs": [
        {
          "output_type": "execute_result",
          "data": {
            "text/plain": [
              "0"
            ]
          },
          "metadata": {},
          "execution_count": 13
        }
      ]
    },
    {
      "cell_type": "markdown",
      "source": [
        "#### No duplicated values found so now no null values and no duplicated values."
      ],
      "metadata": {
        "id": "PzGOCZzmNFUB"
      }
    },
    {
      "cell_type": "markdown",
      "source": [
        "## Analysis Part\n",
        "#### What is the total number of companies in the dataset?"
      ],
      "metadata": {
        "id": "wkw_Nuu3NNt2"
      }
    },
    {
      "cell_type": "code",
      "source": [
        "len(df)"
      ],
      "metadata": {
        "colab": {
          "base_uri": "https://localhost:8080/"
        },
        "id": "aCsrDDLtNEi9",
        "outputId": "7abae150-0587-483c-b4d8-3a0ed5f2ae5e"
      },
      "execution_count": 14,
      "outputs": [
        {
          "output_type": "execute_result",
          "data": {
            "text/plain": [
              "818"
            ]
          },
          "metadata": {},
          "execution_count": 14
        }
      ]
    },
    {
      "cell_type": "markdown",
      "source": [
        "#### Calculate the total revenue generated by all companies combined."
      ],
      "metadata": {
        "id": "d7q2Bk2MO_iE"
      }
    },
    {
      "cell_type": "code",
      "source": [
        "df['Revenues_M'].sum()"
      ],
      "metadata": {
        "colab": {
          "base_uri": "https://localhost:8080/"
        },
        "id": "z2GHfvlKNCWR",
        "outputId": "0866e692-7eb9-4eb3-8195-df8993182451"
      },
      "execution_count": 15,
      "outputs": [
        {
          "output_type": "execute_result",
          "data": {
            "text/plain": [
              "17506658.1"
            ]
          },
          "metadata": {},
          "execution_count": 15
        }
      ]
    },
    {
      "cell_type": "markdown",
      "source": [
        "#### What is the average revenue per company?"
      ],
      "metadata": {
        "id": "Gn7qaYU2Pm8m"
      }
    },
    {
      "cell_type": "code",
      "source": [
        "df['Revenues_M'].mean()"
      ],
      "metadata": {
        "colab": {
          "base_uri": "https://localhost:8080/"
        },
        "id": "-_B4jYhmPoMu",
        "outputId": "60c770c6-7d0b-450b-dec3-1fdf92003033"
      },
      "execution_count": 16,
      "outputs": [
        {
          "output_type": "execute_result",
          "data": {
            "text/plain": [
              "21401.78251833741"
            ]
          },
          "metadata": {},
          "execution_count": 16
        }
      ]
    },
    {
      "cell_type": "markdown",
      "source": [
        "#### Which company has the highest revenue, and what is that revenue?"
      ],
      "metadata": {
        "id": "H6IyjYw7Pxyi"
      }
    },
    {
      "cell_type": "code",
      "source": [
        "df.loc[df['Revenues_M'].idxmax()]"
      ],
      "metadata": {
        "colab": {
          "base_uri": "https://localhost:8080/",
          "height": 1000
        },
        "id": "1x51evUkPzHV",
        "outputId": "dabf06a3-6919-4a2a-e9fa-5b6226c37793"
      },
      "execution_count": 17,
      "outputs": [
        {
          "output_type": "execute_result",
          "data": {
            "text/plain": [
              "Company                                                                    Walmart\n",
              "Ticker                                                                         WMT\n",
              "Sector                                                                   Retailing\n",
              "Industry                                                     General Merchandisers\n",
              "Profitable                                                                     yes\n",
              "Founder_is_CEO                                                                  no\n",
              "FemaleCEO                                                                       no\n",
              "Growth_in_Jobs                                                                  no\n",
              "Change_in_Rank                                                                 0.0\n",
              "Gained_in_Rank                                                                  no\n",
              "Dropped_in_Rank                                                                 no\n",
              "Global500                                                                      yes\n",
              "Worlds_Most_Admired_Companies                                                  yes\n",
              "Best_Companies_to_Work_For                                                     yes\n",
              "Number_of_employees                                                        2100000\n",
              "MarketCap_March28_M                                                       484852.8\n",
              "Revenues_M                                                                648125.0\n",
              "RevenuePercentChange                                                           6.0\n",
              "Profits_M                                                                  15511.0\n",
              "ProfitsPercentChange                                                          32.8\n",
              "Assets_M                                                                  252399.0\n",
              "CEO                                                            C. Douglas McMillon\n",
              "Country                                                                       U.S.\n",
              "HeadquartersCity                                                       Bentonville\n",
              "HeadquartersState                                                         Arkansas\n",
              "Website                                              https://www.stock.walmart.com\n",
              "CompanyType                                                                 Public\n",
              "Footnote                         Figures are for fiscal year ended Jan. 31, 202...\n",
              "MarketCap_Updated_M                                                       559911.0\n",
              "Updated                                                                 2024-08-05\n",
              "Name: 1, dtype: object"
            ],
            "text/html": [
              "<div>\n",
              "<style scoped>\n",
              "    .dataframe tbody tr th:only-of-type {\n",
              "        vertical-align: middle;\n",
              "    }\n",
              "\n",
              "    .dataframe tbody tr th {\n",
              "        vertical-align: top;\n",
              "    }\n",
              "\n",
              "    .dataframe thead th {\n",
              "        text-align: right;\n",
              "    }\n",
              "</style>\n",
              "<table border=\"1\" class=\"dataframe\">\n",
              "  <thead>\n",
              "    <tr style=\"text-align: right;\">\n",
              "      <th></th>\n",
              "      <th>1</th>\n",
              "    </tr>\n",
              "  </thead>\n",
              "  <tbody>\n",
              "    <tr>\n",
              "      <th>Company</th>\n",
              "      <td>Walmart</td>\n",
              "    </tr>\n",
              "    <tr>\n",
              "      <th>Ticker</th>\n",
              "      <td>WMT</td>\n",
              "    </tr>\n",
              "    <tr>\n",
              "      <th>Sector</th>\n",
              "      <td>Retailing</td>\n",
              "    </tr>\n",
              "    <tr>\n",
              "      <th>Industry</th>\n",
              "      <td>General Merchandisers</td>\n",
              "    </tr>\n",
              "    <tr>\n",
              "      <th>Profitable</th>\n",
              "      <td>yes</td>\n",
              "    </tr>\n",
              "    <tr>\n",
              "      <th>Founder_is_CEO</th>\n",
              "      <td>no</td>\n",
              "    </tr>\n",
              "    <tr>\n",
              "      <th>FemaleCEO</th>\n",
              "      <td>no</td>\n",
              "    </tr>\n",
              "    <tr>\n",
              "      <th>Growth_in_Jobs</th>\n",
              "      <td>no</td>\n",
              "    </tr>\n",
              "    <tr>\n",
              "      <th>Change_in_Rank</th>\n",
              "      <td>0.0</td>\n",
              "    </tr>\n",
              "    <tr>\n",
              "      <th>Gained_in_Rank</th>\n",
              "      <td>no</td>\n",
              "    </tr>\n",
              "    <tr>\n",
              "      <th>Dropped_in_Rank</th>\n",
              "      <td>no</td>\n",
              "    </tr>\n",
              "    <tr>\n",
              "      <th>Global500</th>\n",
              "      <td>yes</td>\n",
              "    </tr>\n",
              "    <tr>\n",
              "      <th>Worlds_Most_Admired_Companies</th>\n",
              "      <td>yes</td>\n",
              "    </tr>\n",
              "    <tr>\n",
              "      <th>Best_Companies_to_Work_For</th>\n",
              "      <td>yes</td>\n",
              "    </tr>\n",
              "    <tr>\n",
              "      <th>Number_of_employees</th>\n",
              "      <td>2100000</td>\n",
              "    </tr>\n",
              "    <tr>\n",
              "      <th>MarketCap_March28_M</th>\n",
              "      <td>484852.8</td>\n",
              "    </tr>\n",
              "    <tr>\n",
              "      <th>Revenues_M</th>\n",
              "      <td>648125.0</td>\n",
              "    </tr>\n",
              "    <tr>\n",
              "      <th>RevenuePercentChange</th>\n",
              "      <td>6.0</td>\n",
              "    </tr>\n",
              "    <tr>\n",
              "      <th>Profits_M</th>\n",
              "      <td>15511.0</td>\n",
              "    </tr>\n",
              "    <tr>\n",
              "      <th>ProfitsPercentChange</th>\n",
              "      <td>32.8</td>\n",
              "    </tr>\n",
              "    <tr>\n",
              "      <th>Assets_M</th>\n",
              "      <td>252399.0</td>\n",
              "    </tr>\n",
              "    <tr>\n",
              "      <th>CEO</th>\n",
              "      <td>C. Douglas McMillon</td>\n",
              "    </tr>\n",
              "    <tr>\n",
              "      <th>Country</th>\n",
              "      <td>U.S.</td>\n",
              "    </tr>\n",
              "    <tr>\n",
              "      <th>HeadquartersCity</th>\n",
              "      <td>Bentonville</td>\n",
              "    </tr>\n",
              "    <tr>\n",
              "      <th>HeadquartersState</th>\n",
              "      <td>Arkansas</td>\n",
              "    </tr>\n",
              "    <tr>\n",
              "      <th>Website</th>\n",
              "      <td>https://www.stock.walmart.com</td>\n",
              "    </tr>\n",
              "    <tr>\n",
              "      <th>CompanyType</th>\n",
              "      <td>Public</td>\n",
              "    </tr>\n",
              "    <tr>\n",
              "      <th>Footnote</th>\n",
              "      <td>Figures are for fiscal year ended Jan. 31, 202...</td>\n",
              "    </tr>\n",
              "    <tr>\n",
              "      <th>MarketCap_Updated_M</th>\n",
              "      <td>559911.0</td>\n",
              "    </tr>\n",
              "    <tr>\n",
              "      <th>Updated</th>\n",
              "      <td>2024-08-05</td>\n",
              "    </tr>\n",
              "  </tbody>\n",
              "</table>\n",
              "</div><br><label><b>dtype:</b> object</label>"
            ]
          },
          "metadata": {},
          "execution_count": 17
        }
      ]
    },
    {
      "cell_type": "markdown",
      "source": [
        "#### Which company has the lowest revenue?"
      ],
      "metadata": {
        "id": "xl8G8r56Rrjv"
      }
    },
    {
      "cell_type": "code",
      "source": [
        "df.loc[df['Revenues_M'].idxmin()]"
      ],
      "metadata": {
        "colab": {
          "base_uri": "https://localhost:8080/",
          "height": 1000
        },
        "id": "g3M5cVrBRs76",
        "outputId": "fbb2cdfd-9a56-4b37-f45c-f6aa98a8eb3a"
      },
      "execution_count": 18,
      "outputs": [
        {
          "output_type": "execute_result",
          "data": {
            "text/plain": [
              "Company                                            BWX Technologies\n",
              "Ticker                                                         BWXT\n",
              "Sector                                          Aerospace & Defense\n",
              "Industry                                        Aerospace & Defense\n",
              "Profitable                                                      yes\n",
              "Founder_is_CEO                                                   no\n",
              "FemaleCEO                                                        no\n",
              "Growth_in_Jobs                                                  yes\n",
              "Change_in_Rank                                                  0.0\n",
              "Gained_in_Rank                                                   no\n",
              "Dropped_in_Rank                                                  no\n",
              "Global500                                                        no\n",
              "Worlds_Most_Admired_Companies                                    no\n",
              "Best_Companies_to_Work_For                                       no\n",
              "Number_of_employees                                            7800\n",
              "MarketCap_March28_M                                          9380.2\n",
              "Revenues_M                                                   2496.3\n",
              "RevenuePercentChange                                           11.8\n",
              "Profits_M                                                     245.8\n",
              "ProfitsPercentChange                                            3.2\n",
              "Assets_M                                                     2747.1\n",
              "CEO                                                  Rex D. Geveden\n",
              "Country                                                        U.S.\n",
              "HeadquartersCity                                          Lynchburg\n",
              "HeadquartersState                                          Virginia\n",
              "Website                                        https://www.bwxt.com\n",
              "CompanyType                                                  Public\n",
              "Footnote                         Market value as of March 28, 2024.\n",
              "MarketCap_Updated_M                                          9380.0\n",
              "Updated                                                  2024-06-04\n",
              "Name: 999, dtype: object"
            ],
            "text/html": [
              "<div>\n",
              "<style scoped>\n",
              "    .dataframe tbody tr th:only-of-type {\n",
              "        vertical-align: middle;\n",
              "    }\n",
              "\n",
              "    .dataframe tbody tr th {\n",
              "        vertical-align: top;\n",
              "    }\n",
              "\n",
              "    .dataframe thead th {\n",
              "        text-align: right;\n",
              "    }\n",
              "</style>\n",
              "<table border=\"1\" class=\"dataframe\">\n",
              "  <thead>\n",
              "    <tr style=\"text-align: right;\">\n",
              "      <th></th>\n",
              "      <th>999</th>\n",
              "    </tr>\n",
              "  </thead>\n",
              "  <tbody>\n",
              "    <tr>\n",
              "      <th>Company</th>\n",
              "      <td>BWX Technologies</td>\n",
              "    </tr>\n",
              "    <tr>\n",
              "      <th>Ticker</th>\n",
              "      <td>BWXT</td>\n",
              "    </tr>\n",
              "    <tr>\n",
              "      <th>Sector</th>\n",
              "      <td>Aerospace &amp; Defense</td>\n",
              "    </tr>\n",
              "    <tr>\n",
              "      <th>Industry</th>\n",
              "      <td>Aerospace &amp; Defense</td>\n",
              "    </tr>\n",
              "    <tr>\n",
              "      <th>Profitable</th>\n",
              "      <td>yes</td>\n",
              "    </tr>\n",
              "    <tr>\n",
              "      <th>Founder_is_CEO</th>\n",
              "      <td>no</td>\n",
              "    </tr>\n",
              "    <tr>\n",
              "      <th>FemaleCEO</th>\n",
              "      <td>no</td>\n",
              "    </tr>\n",
              "    <tr>\n",
              "      <th>Growth_in_Jobs</th>\n",
              "      <td>yes</td>\n",
              "    </tr>\n",
              "    <tr>\n",
              "      <th>Change_in_Rank</th>\n",
              "      <td>0.0</td>\n",
              "    </tr>\n",
              "    <tr>\n",
              "      <th>Gained_in_Rank</th>\n",
              "      <td>no</td>\n",
              "    </tr>\n",
              "    <tr>\n",
              "      <th>Dropped_in_Rank</th>\n",
              "      <td>no</td>\n",
              "    </tr>\n",
              "    <tr>\n",
              "      <th>Global500</th>\n",
              "      <td>no</td>\n",
              "    </tr>\n",
              "    <tr>\n",
              "      <th>Worlds_Most_Admired_Companies</th>\n",
              "      <td>no</td>\n",
              "    </tr>\n",
              "    <tr>\n",
              "      <th>Best_Companies_to_Work_For</th>\n",
              "      <td>no</td>\n",
              "    </tr>\n",
              "    <tr>\n",
              "      <th>Number_of_employees</th>\n",
              "      <td>7800</td>\n",
              "    </tr>\n",
              "    <tr>\n",
              "      <th>MarketCap_March28_M</th>\n",
              "      <td>9380.2</td>\n",
              "    </tr>\n",
              "    <tr>\n",
              "      <th>Revenues_M</th>\n",
              "      <td>2496.3</td>\n",
              "    </tr>\n",
              "    <tr>\n",
              "      <th>RevenuePercentChange</th>\n",
              "      <td>11.8</td>\n",
              "    </tr>\n",
              "    <tr>\n",
              "      <th>Profits_M</th>\n",
              "      <td>245.8</td>\n",
              "    </tr>\n",
              "    <tr>\n",
              "      <th>ProfitsPercentChange</th>\n",
              "      <td>3.2</td>\n",
              "    </tr>\n",
              "    <tr>\n",
              "      <th>Assets_M</th>\n",
              "      <td>2747.1</td>\n",
              "    </tr>\n",
              "    <tr>\n",
              "      <th>CEO</th>\n",
              "      <td>Rex D. Geveden</td>\n",
              "    </tr>\n",
              "    <tr>\n",
              "      <th>Country</th>\n",
              "      <td>U.S.</td>\n",
              "    </tr>\n",
              "    <tr>\n",
              "      <th>HeadquartersCity</th>\n",
              "      <td>Lynchburg</td>\n",
              "    </tr>\n",
              "    <tr>\n",
              "      <th>HeadquartersState</th>\n",
              "      <td>Virginia</td>\n",
              "    </tr>\n",
              "    <tr>\n",
              "      <th>Website</th>\n",
              "      <td>https://www.bwxt.com</td>\n",
              "    </tr>\n",
              "    <tr>\n",
              "      <th>CompanyType</th>\n",
              "      <td>Public</td>\n",
              "    </tr>\n",
              "    <tr>\n",
              "      <th>Footnote</th>\n",
              "      <td>Market value as of March 28, 2024.</td>\n",
              "    </tr>\n",
              "    <tr>\n",
              "      <th>MarketCap_Updated_M</th>\n",
              "      <td>9380.0</td>\n",
              "    </tr>\n",
              "    <tr>\n",
              "      <th>Updated</th>\n",
              "      <td>2024-06-04</td>\n",
              "    </tr>\n",
              "  </tbody>\n",
              "</table>\n",
              "</div><br><label><b>dtype:</b> object</label>"
            ]
          },
          "metadata": {},
          "execution_count": 18
        }
      ]
    },
    {
      "cell_type": "markdown",
      "source": [
        "#### What is the total number of employees across all companies?"
      ],
      "metadata": {
        "id": "D7rhxK-6R7dl"
      }
    },
    {
      "cell_type": "code",
      "source": [
        "df['Number_of_employees'].sum()"
      ],
      "metadata": {
        "colab": {
          "base_uri": "https://localhost:8080/"
        },
        "id": "dwg8zeIASJVW",
        "outputId": "a662770b-2cca-47d6-ea59-02bad7025c04"
      },
      "execution_count": 19,
      "outputs": [
        {
          "output_type": "execute_result",
          "data": {
            "text/plain": [
              "31051316"
            ]
          },
          "metadata": {},
          "execution_count": 19
        }
      ]
    },
    {
      "cell_type": "markdown",
      "source": [
        "#### Which company has the highest number of employees?"
      ],
      "metadata": {
        "id": "rZtf74YVSWRh"
      }
    },
    {
      "cell_type": "code",
      "source": [
        "df.loc[df['Number_of_employees'].idxmax()]"
      ],
      "metadata": {
        "colab": {
          "base_uri": "https://localhost:8080/",
          "height": 1000
        },
        "id": "pp0IgI8KSVTh",
        "outputId": "639f6450-639e-493f-dc71-c8bd3605929a"
      },
      "execution_count": 20,
      "outputs": [
        {
          "output_type": "execute_result",
          "data": {
            "text/plain": [
              "Company                                                                    Walmart\n",
              "Ticker                                                                         WMT\n",
              "Sector                                                                   Retailing\n",
              "Industry                                                     General Merchandisers\n",
              "Profitable                                                                     yes\n",
              "Founder_is_CEO                                                                  no\n",
              "FemaleCEO                                                                       no\n",
              "Growth_in_Jobs                                                                  no\n",
              "Change_in_Rank                                                                 0.0\n",
              "Gained_in_Rank                                                                  no\n",
              "Dropped_in_Rank                                                                 no\n",
              "Global500                                                                      yes\n",
              "Worlds_Most_Admired_Companies                                                  yes\n",
              "Best_Companies_to_Work_For                                                     yes\n",
              "Number_of_employees                                                        2100000\n",
              "MarketCap_March28_M                                                       484852.8\n",
              "Revenues_M                                                                648125.0\n",
              "RevenuePercentChange                                                           6.0\n",
              "Profits_M                                                                  15511.0\n",
              "ProfitsPercentChange                                                          32.8\n",
              "Assets_M                                                                  252399.0\n",
              "CEO                                                            C. Douglas McMillon\n",
              "Country                                                                       U.S.\n",
              "HeadquartersCity                                                       Bentonville\n",
              "HeadquartersState                                                         Arkansas\n",
              "Website                                              https://www.stock.walmart.com\n",
              "CompanyType                                                                 Public\n",
              "Footnote                         Figures are for fiscal year ended Jan. 31, 202...\n",
              "MarketCap_Updated_M                                                       559911.0\n",
              "Updated                                                                 2024-08-05\n",
              "Name: 1, dtype: object"
            ],
            "text/html": [
              "<div>\n",
              "<style scoped>\n",
              "    .dataframe tbody tr th:only-of-type {\n",
              "        vertical-align: middle;\n",
              "    }\n",
              "\n",
              "    .dataframe tbody tr th {\n",
              "        vertical-align: top;\n",
              "    }\n",
              "\n",
              "    .dataframe thead th {\n",
              "        text-align: right;\n",
              "    }\n",
              "</style>\n",
              "<table border=\"1\" class=\"dataframe\">\n",
              "  <thead>\n",
              "    <tr style=\"text-align: right;\">\n",
              "      <th></th>\n",
              "      <th>1</th>\n",
              "    </tr>\n",
              "  </thead>\n",
              "  <tbody>\n",
              "    <tr>\n",
              "      <th>Company</th>\n",
              "      <td>Walmart</td>\n",
              "    </tr>\n",
              "    <tr>\n",
              "      <th>Ticker</th>\n",
              "      <td>WMT</td>\n",
              "    </tr>\n",
              "    <tr>\n",
              "      <th>Sector</th>\n",
              "      <td>Retailing</td>\n",
              "    </tr>\n",
              "    <tr>\n",
              "      <th>Industry</th>\n",
              "      <td>General Merchandisers</td>\n",
              "    </tr>\n",
              "    <tr>\n",
              "      <th>Profitable</th>\n",
              "      <td>yes</td>\n",
              "    </tr>\n",
              "    <tr>\n",
              "      <th>Founder_is_CEO</th>\n",
              "      <td>no</td>\n",
              "    </tr>\n",
              "    <tr>\n",
              "      <th>FemaleCEO</th>\n",
              "      <td>no</td>\n",
              "    </tr>\n",
              "    <tr>\n",
              "      <th>Growth_in_Jobs</th>\n",
              "      <td>no</td>\n",
              "    </tr>\n",
              "    <tr>\n",
              "      <th>Change_in_Rank</th>\n",
              "      <td>0.0</td>\n",
              "    </tr>\n",
              "    <tr>\n",
              "      <th>Gained_in_Rank</th>\n",
              "      <td>no</td>\n",
              "    </tr>\n",
              "    <tr>\n",
              "      <th>Dropped_in_Rank</th>\n",
              "      <td>no</td>\n",
              "    </tr>\n",
              "    <tr>\n",
              "      <th>Global500</th>\n",
              "      <td>yes</td>\n",
              "    </tr>\n",
              "    <tr>\n",
              "      <th>Worlds_Most_Admired_Companies</th>\n",
              "      <td>yes</td>\n",
              "    </tr>\n",
              "    <tr>\n",
              "      <th>Best_Companies_to_Work_For</th>\n",
              "      <td>yes</td>\n",
              "    </tr>\n",
              "    <tr>\n",
              "      <th>Number_of_employees</th>\n",
              "      <td>2100000</td>\n",
              "    </tr>\n",
              "    <tr>\n",
              "      <th>MarketCap_March28_M</th>\n",
              "      <td>484852.8</td>\n",
              "    </tr>\n",
              "    <tr>\n",
              "      <th>Revenues_M</th>\n",
              "      <td>648125.0</td>\n",
              "    </tr>\n",
              "    <tr>\n",
              "      <th>RevenuePercentChange</th>\n",
              "      <td>6.0</td>\n",
              "    </tr>\n",
              "    <tr>\n",
              "      <th>Profits_M</th>\n",
              "      <td>15511.0</td>\n",
              "    </tr>\n",
              "    <tr>\n",
              "      <th>ProfitsPercentChange</th>\n",
              "      <td>32.8</td>\n",
              "    </tr>\n",
              "    <tr>\n",
              "      <th>Assets_M</th>\n",
              "      <td>252399.0</td>\n",
              "    </tr>\n",
              "    <tr>\n",
              "      <th>CEO</th>\n",
              "      <td>C. Douglas McMillon</td>\n",
              "    </tr>\n",
              "    <tr>\n",
              "      <th>Country</th>\n",
              "      <td>U.S.</td>\n",
              "    </tr>\n",
              "    <tr>\n",
              "      <th>HeadquartersCity</th>\n",
              "      <td>Bentonville</td>\n",
              "    </tr>\n",
              "    <tr>\n",
              "      <th>HeadquartersState</th>\n",
              "      <td>Arkansas</td>\n",
              "    </tr>\n",
              "    <tr>\n",
              "      <th>Website</th>\n",
              "      <td>https://www.stock.walmart.com</td>\n",
              "    </tr>\n",
              "    <tr>\n",
              "      <th>CompanyType</th>\n",
              "      <td>Public</td>\n",
              "    </tr>\n",
              "    <tr>\n",
              "      <th>Footnote</th>\n",
              "      <td>Figures are for fiscal year ended Jan. 31, 202...</td>\n",
              "    </tr>\n",
              "    <tr>\n",
              "      <th>MarketCap_Updated_M</th>\n",
              "      <td>559911.0</td>\n",
              "    </tr>\n",
              "    <tr>\n",
              "      <th>Updated</th>\n",
              "      <td>2024-08-05</td>\n",
              "    </tr>\n",
              "  </tbody>\n",
              "</table>\n",
              "</div><br><label><b>dtype:</b> object</label>"
            ]
          },
          "metadata": {},
          "execution_count": 20
        }
      ]
    },
    {
      "cell_type": "markdown",
      "source": [
        "#### What is the average number of employees per company?"
      ],
      "metadata": {
        "id": "RHaH-Uv-Sivz"
      }
    },
    {
      "cell_type": "code",
      "source": [
        "round(df['Number_of_employees'].mean(),)"
      ],
      "metadata": {
        "colab": {
          "base_uri": "https://localhost:8080/"
        },
        "id": "xpn8rrnwSmPD",
        "outputId": "2b475234-1e80-4210-f6ae-93b300eb6bab"
      },
      "execution_count": 21,
      "outputs": [
        {
          "output_type": "execute_result",
          "data": {
            "text/plain": [
              "37960"
            ]
          },
          "metadata": {},
          "execution_count": 21
        }
      ]
    },
    {
      "cell_type": "markdown",
      "source": [
        "#### What is the total profit generated by all companies combined?"
      ],
      "metadata": {
        "id": "92dxT1_ATAG3"
      }
    },
    {
      "cell_type": "code",
      "source": [
        "df['Profits_M'].sum()"
      ],
      "metadata": {
        "colab": {
          "base_uri": "https://localhost:8080/"
        },
        "id": "FTIeg8cfS_GG",
        "outputId": "25676eaa-c55e-4eb0-9c63-89f31cd08d6b"
      },
      "execution_count": 22,
      "outputs": [
        {
          "output_type": "execute_result",
          "data": {
            "text/plain": [
              "1725537.1"
            ]
          },
          "metadata": {},
          "execution_count": 22
        }
      ]
    },
    {
      "cell_type": "markdown",
      "source": [
        "#### Calculate the average profit per company."
      ],
      "metadata": {
        "id": "R1owCb8lTMko"
      }
    },
    {
      "cell_type": "code",
      "source": [
        "df['Profits_M'].mean()"
      ],
      "metadata": {
        "colab": {
          "base_uri": "https://localhost:8080/"
        },
        "id": "29BI5FqpTPSt",
        "outputId": "53249661-b7f6-4010-cdce-1f095d7565e7"
      },
      "execution_count": 23,
      "outputs": [
        {
          "output_type": "execute_result",
          "data": {
            "text/plain": [
              "2109.458557457213"
            ]
          },
          "metadata": {},
          "execution_count": 23
        }
      ]
    },
    {
      "cell_type": "markdown",
      "source": [
        "#### Which industry has the highest total revenue?"
      ],
      "metadata": {
        "id": "ecFS93-STVed"
      }
    },
    {
      "cell_type": "code",
      "source": [
        "df.groupby('Industry')['Revenues_M'].sum().idxmax()"
      ],
      "metadata": {
        "colab": {
          "base_uri": "https://localhost:8080/",
          "height": 36
        },
        "id": "bnqfwaNFTRIT",
        "outputId": "8906746c-5325-4dca-e3cd-f31e7b43c32b"
      },
      "execution_count": 24,
      "outputs": [
        {
          "output_type": "execute_result",
          "data": {
            "text/plain": [
              "'Commercial Banks'"
            ],
            "application/vnd.google.colaboratory.intrinsic+json": {
              "type": "string"
            }
          },
          "metadata": {},
          "execution_count": 24
        }
      ]
    },
    {
      "cell_type": "markdown",
      "source": [
        "#### Which industry has the lowest total revenue?"
      ],
      "metadata": {
        "id": "5SaXqv-HWENZ"
      }
    },
    {
      "cell_type": "code",
      "source": [
        "df.groupby('Industry')['Revenues_M'].sum().idxmin()"
      ],
      "metadata": {
        "colab": {
          "base_uri": "https://localhost:8080/",
          "height": 36
        },
        "id": "QE5qG9zfWJju",
        "outputId": "9cf61aff-47c5-418d-846c-9eb2190bd6a1"
      },
      "execution_count": 25,
      "outputs": [
        {
          "output_type": "execute_result",
          "data": {
            "text/plain": [
              "'Miscellaneous'"
            ],
            "application/vnd.google.colaboratory.intrinsic+json": {
              "type": "string"
            }
          },
          "metadata": {},
          "execution_count": 25
        }
      ]
    },
    {
      "cell_type": "markdown",
      "source": [
        "#### Calculate the average revenue per company within each industry."
      ],
      "metadata": {
        "id": "Xvz-4NmCWN92"
      }
    },
    {
      "cell_type": "code",
      "source": [
        "df.groupby('Industry')['Revenues_M'].mean()"
      ],
      "metadata": {
        "colab": {
          "base_uri": "https://localhost:8080/",
          "height": 489
        },
        "id": "bFN_L8xEZLKD",
        "outputId": "ceb871cc-3896-46e6-ff82-3593071aff43"
      },
      "execution_count": 26,
      "outputs": [
        {
          "output_type": "execute_result",
          "data": {
            "text/plain": [
              "Industry\n",
              "Advertising, marketing                            9369.566667\n",
              "Aerospace & Defense                              18840.981250\n",
              "Airlines                                         29502.185714\n",
              "Apparel                                           9374.192308\n",
              "Automotive Retailing, Services                   17113.533333\n",
              "                                                     ...     \n",
              "Waste Management                                 10864.750000\n",
              "Wholesalers: Diversified                          9390.650000\n",
              "Wholesalers: Electronics and Office Equipment    24767.540000\n",
              "Wholesalers: Food and Grocery                    34785.233333\n",
              "Wholesalers: Health Care                         95204.850000\n",
              "Name: Revenues_M, Length: 73, dtype: float64"
            ],
            "text/html": [
              "<div>\n",
              "<style scoped>\n",
              "    .dataframe tbody tr th:only-of-type {\n",
              "        vertical-align: middle;\n",
              "    }\n",
              "\n",
              "    .dataframe tbody tr th {\n",
              "        vertical-align: top;\n",
              "    }\n",
              "\n",
              "    .dataframe thead th {\n",
              "        text-align: right;\n",
              "    }\n",
              "</style>\n",
              "<table border=\"1\" class=\"dataframe\">\n",
              "  <thead>\n",
              "    <tr style=\"text-align: right;\">\n",
              "      <th></th>\n",
              "      <th>Revenues_M</th>\n",
              "    </tr>\n",
              "    <tr>\n",
              "      <th>Industry</th>\n",
              "      <th></th>\n",
              "    </tr>\n",
              "  </thead>\n",
              "  <tbody>\n",
              "    <tr>\n",
              "      <th>Advertising, marketing</th>\n",
              "      <td>9369.566667</td>\n",
              "    </tr>\n",
              "    <tr>\n",
              "      <th>Aerospace &amp; Defense</th>\n",
              "      <td>18840.981250</td>\n",
              "    </tr>\n",
              "    <tr>\n",
              "      <th>Airlines</th>\n",
              "      <td>29502.185714</td>\n",
              "    </tr>\n",
              "    <tr>\n",
              "      <th>Apparel</th>\n",
              "      <td>9374.192308</td>\n",
              "    </tr>\n",
              "    <tr>\n",
              "      <th>Automotive Retailing, Services</th>\n",
              "      <td>17113.533333</td>\n",
              "    </tr>\n",
              "    <tr>\n",
              "      <th>...</th>\n",
              "      <td>...</td>\n",
              "    </tr>\n",
              "    <tr>\n",
              "      <th>Waste Management</th>\n",
              "      <td>10864.750000</td>\n",
              "    </tr>\n",
              "    <tr>\n",
              "      <th>Wholesalers: Diversified</th>\n",
              "      <td>9390.650000</td>\n",
              "    </tr>\n",
              "    <tr>\n",
              "      <th>Wholesalers: Electronics and Office Equipment</th>\n",
              "      <td>24767.540000</td>\n",
              "    </tr>\n",
              "    <tr>\n",
              "      <th>Wholesalers: Food and Grocery</th>\n",
              "      <td>34785.233333</td>\n",
              "    </tr>\n",
              "    <tr>\n",
              "      <th>Wholesalers: Health Care</th>\n",
              "      <td>95204.850000</td>\n",
              "    </tr>\n",
              "  </tbody>\n",
              "</table>\n",
              "<p>73 rows × 1 columns</p>\n",
              "</div><br><label><b>dtype:</b> float64</label>"
            ]
          },
          "metadata": {},
          "execution_count": 26
        }
      ]
    },
    {
      "cell_type": "markdown",
      "source": [
        "#### Which industry has the highest average profit per company?"
      ],
      "metadata": {
        "id": "Xs4XkZlXZxcA"
      }
    },
    {
      "cell_type": "code",
      "source": [
        "df.groupby('Industry')['Revenues_M'].mean().idxmax()"
      ],
      "metadata": {
        "colab": {
          "base_uri": "https://localhost:8080/",
          "height": 36
        },
        "id": "0wAlsehoZ00O",
        "outputId": "3208fcc7-04bd-4d6f-c29c-e9b5b9891f73"
      },
      "execution_count": 27,
      "outputs": [
        {
          "output_type": "execute_result",
          "data": {
            "text/plain": [
              "'Health Care: Insurance and Managed Care'"
            ],
            "application/vnd.google.colaboratory.intrinsic+json": {
              "type": "string"
            }
          },
          "metadata": {},
          "execution_count": 27
        }
      ]
    },
    {
      "cell_type": "markdown",
      "source": [
        "#### How many companies belong to the \"Technology\" industry?"
      ],
      "metadata": {
        "id": "JnR6aSz9cUIk"
      }
    },
    {
      "cell_type": "code",
      "source": [
        "df[df['Industry'] == 'Computers'].shape[0]"
      ],
      "metadata": {
        "colab": {
          "base_uri": "https://localhost:8080/"
        },
        "id": "mWZ0g5G_caVC",
        "outputId": "b55ec4d4-54dc-49e2-9314-8482f0b3937d"
      },
      "execution_count": 28,
      "outputs": [
        {
          "output_type": "execute_result",
          "data": {
            "text/plain": [
              "0"
            ]
          },
          "metadata": {},
          "execution_count": 28
        }
      ]
    },
    {
      "cell_type": "markdown",
      "source": [
        "#### What is the total number of employees in the \"Healthcare\" industry?"
      ],
      "metadata": {
        "id": "v4kXo6Q-dXlU"
      }
    },
    {
      "cell_type": "code",
      "source": [
        "df[df['Industry'] == 'Healthcare']['Number_of_employees'].sum()"
      ],
      "metadata": {
        "colab": {
          "base_uri": "https://localhost:8080/"
        },
        "id": "SzeNW0N3dY3D",
        "outputId": "0fd95a9b-4035-4965-8a57-8edf350a4fe3"
      },
      "execution_count": 29,
      "outputs": [
        {
          "output_type": "execute_result",
          "data": {
            "text/plain": [
              "0"
            ]
          },
          "metadata": {},
          "execution_count": 29
        }
      ]
    },
    {
      "cell_type": "markdown",
      "source": [
        "#### Which industry has the highest average number of employees per company?"
      ],
      "metadata": {
        "id": "pImqGHAUfJH_"
      }
    },
    {
      "cell_type": "code",
      "source": [
        "df.groupby('Industry')['Number_of_employees'].mean().idxmax()"
      ],
      "metadata": {
        "colab": {
          "base_uri": "https://localhost:8080/",
          "height": 36
        },
        "id": "r2S-BVLRfdw1",
        "outputId": "e048646d-c7e8-4dd9-b970-397198c3f82f"
      },
      "execution_count": 30,
      "outputs": [
        {
          "output_type": "execute_result",
          "data": {
            "text/plain": [
              "'Mail, Package, and Freight Delivery'"
            ],
            "application/vnd.google.colaboratory.intrinsic+json": {
              "type": "string"
            }
          },
          "metadata": {},
          "execution_count": 30
        }
      ]
    },
    {
      "cell_type": "markdown",
      "source": [
        "#### Find the industry with the highest profit margin (Profit/Revenue)."
      ],
      "metadata": {
        "id": "vR0ubdhGf-UN"
      }
    },
    {
      "cell_type": "code",
      "source": [
        "df['Profit Margin'] =  df['Profits_M']/df['Revenues_M']\n",
        "df.groupby('Industry')['Profit Margin'].mean().idxmax()"
      ],
      "metadata": {
        "colab": {
          "base_uri": "https://localhost:8080/",
          "height": 36
        },
        "id": "a_v-Dr88gBla",
        "outputId": "35b4e2f6-58be-4960-d57e-451be285cdce"
      },
      "execution_count": 31,
      "outputs": [
        {
          "output_type": "execute_result",
          "data": {
            "text/plain": [
              "'Railroads'"
            ],
            "application/vnd.google.colaboratory.intrinsic+json": {
              "type": "string"
            }
          },
          "metadata": {},
          "execution_count": 31
        }
      ]
    },
    {
      "cell_type": "markdown",
      "source": [
        "#### How many companies reported a profit?"
      ],
      "metadata": {
        "id": "DkL3m60TiL52"
      }
    },
    {
      "cell_type": "code",
      "source": [
        "df[df['Profitable'] == 'yes'].shape[0]"
      ],
      "metadata": {
        "colab": {
          "base_uri": "https://localhost:8080/"
        },
        "id": "JW0Ha3mLiNPM",
        "outputId": "4dd3f38e-dda8-438b-e6da-64bb2b93237a"
      },
      "execution_count": 32,
      "outputs": [
        {
          "output_type": "execute_result",
          "data": {
            "text/plain": [
              "758"
            ]
          },
          "metadata": {},
          "execution_count": 32
        }
      ]
    },
    {
      "cell_type": "markdown",
      "source": [
        "#### How many companies reported a loss?"
      ],
      "metadata": {
        "id": "Bl55caqmidO_"
      }
    },
    {
      "cell_type": "code",
      "source": [
        "df[df['Profitable'] != 'yes'].shape[0]"
      ],
      "metadata": {
        "colab": {
          "base_uri": "https://localhost:8080/"
        },
        "id": "_zsqvB-zihGr",
        "outputId": "eaa72dde-f7de-47eb-d07d-e4833fc8fc10"
      },
      "execution_count": 33,
      "outputs": [
        {
          "output_type": "execute_result",
          "data": {
            "text/plain": [
              "60"
            ]
          },
          "metadata": {},
          "execution_count": 33
        }
      ]
    },
    {
      "cell_type": "markdown",
      "source": [
        "#### Which company has the highest profit margin (Profit/Revenue)?"
      ],
      "metadata": {
        "id": "nnICEES2iq_R"
      }
    },
    {
      "cell_type": "code",
      "source": [
        "df.loc[df['Profit Margin'].idxmax()]"
      ],
      "metadata": {
        "colab": {
          "base_uri": "https://localhost:8080/",
          "height": 1000
        },
        "id": "uA6aSJ6UiuDr",
        "outputId": "f55df8c3-8629-4f2e-c113-dcc01e8fdd19"
      },
      "execution_count": 34,
      "outputs": [
        {
          "output_type": "execute_result",
          "data": {
            "text/plain": [
              "Company                                                           Emerson Electric\n",
              "Ticker                                                                         EMR\n",
              "Sector                                                                 Industrials\n",
              "Industry                                                      Industrial Machinery\n",
              "Profitable                                                                     yes\n",
              "Founder_is_CEO                                                                  no\n",
              "FemaleCEO                                                                       no\n",
              "Growth_in_Jobs                                                                  no\n",
              "Change_in_Rank                                                               -18.0\n",
              "Gained_in_Rank                                                                  no\n",
              "Dropped_in_Rank                                                                yes\n",
              "Global500                                                                       no\n",
              "Worlds_Most_Admired_Companies                                                   no\n",
              "Best_Companies_to_Work_For                                                      no\n",
              "Number_of_employees                                                          67000\n",
              "MarketCap_March28_M                                                        64842.2\n",
              "Revenues_M                                                                 18370.0\n",
              "RevenuePercentChange                                                          -6.4\n",
              "Profits_M                                                                  13219.0\n",
              "ProfitsPercentChange                                                         309.1\n",
              "Assets_M                                                                   42746.0\n",
              "CEO                                                                S.L. Karsanbhai\n",
              "Country                                                                       U.S.\n",
              "HeadquartersCity                                                         St. Louis\n",
              "HeadquartersState                                                         Missouri\n",
              "Website                                                    https://www.emerson.com\n",
              "CompanyType                                                                 Public\n",
              "Footnote                         Includes revenues from discontinued operations...\n",
              "MarketCap_Updated_M                                                        64842.0\n",
              "Updated                                                                 2024-06-04\n",
              "Profit Margin                                                             0.719597\n",
              "Name: 224, dtype: object"
            ],
            "text/html": [
              "<div>\n",
              "<style scoped>\n",
              "    .dataframe tbody tr th:only-of-type {\n",
              "        vertical-align: middle;\n",
              "    }\n",
              "\n",
              "    .dataframe tbody tr th {\n",
              "        vertical-align: top;\n",
              "    }\n",
              "\n",
              "    .dataframe thead th {\n",
              "        text-align: right;\n",
              "    }\n",
              "</style>\n",
              "<table border=\"1\" class=\"dataframe\">\n",
              "  <thead>\n",
              "    <tr style=\"text-align: right;\">\n",
              "      <th></th>\n",
              "      <th>224</th>\n",
              "    </tr>\n",
              "  </thead>\n",
              "  <tbody>\n",
              "    <tr>\n",
              "      <th>Company</th>\n",
              "      <td>Emerson Electric</td>\n",
              "    </tr>\n",
              "    <tr>\n",
              "      <th>Ticker</th>\n",
              "      <td>EMR</td>\n",
              "    </tr>\n",
              "    <tr>\n",
              "      <th>Sector</th>\n",
              "      <td>Industrials</td>\n",
              "    </tr>\n",
              "    <tr>\n",
              "      <th>Industry</th>\n",
              "      <td>Industrial Machinery</td>\n",
              "    </tr>\n",
              "    <tr>\n",
              "      <th>Profitable</th>\n",
              "      <td>yes</td>\n",
              "    </tr>\n",
              "    <tr>\n",
              "      <th>Founder_is_CEO</th>\n",
              "      <td>no</td>\n",
              "    </tr>\n",
              "    <tr>\n",
              "      <th>FemaleCEO</th>\n",
              "      <td>no</td>\n",
              "    </tr>\n",
              "    <tr>\n",
              "      <th>Growth_in_Jobs</th>\n",
              "      <td>no</td>\n",
              "    </tr>\n",
              "    <tr>\n",
              "      <th>Change_in_Rank</th>\n",
              "      <td>-18.0</td>\n",
              "    </tr>\n",
              "    <tr>\n",
              "      <th>Gained_in_Rank</th>\n",
              "      <td>no</td>\n",
              "    </tr>\n",
              "    <tr>\n",
              "      <th>Dropped_in_Rank</th>\n",
              "      <td>yes</td>\n",
              "    </tr>\n",
              "    <tr>\n",
              "      <th>Global500</th>\n",
              "      <td>no</td>\n",
              "    </tr>\n",
              "    <tr>\n",
              "      <th>Worlds_Most_Admired_Companies</th>\n",
              "      <td>no</td>\n",
              "    </tr>\n",
              "    <tr>\n",
              "      <th>Best_Companies_to_Work_For</th>\n",
              "      <td>no</td>\n",
              "    </tr>\n",
              "    <tr>\n",
              "      <th>Number_of_employees</th>\n",
              "      <td>67000</td>\n",
              "    </tr>\n",
              "    <tr>\n",
              "      <th>MarketCap_March28_M</th>\n",
              "      <td>64842.2</td>\n",
              "    </tr>\n",
              "    <tr>\n",
              "      <th>Revenues_M</th>\n",
              "      <td>18370.0</td>\n",
              "    </tr>\n",
              "    <tr>\n",
              "      <th>RevenuePercentChange</th>\n",
              "      <td>-6.4</td>\n",
              "    </tr>\n",
              "    <tr>\n",
              "      <th>Profits_M</th>\n",
              "      <td>13219.0</td>\n",
              "    </tr>\n",
              "    <tr>\n",
              "      <th>ProfitsPercentChange</th>\n",
              "      <td>309.1</td>\n",
              "    </tr>\n",
              "    <tr>\n",
              "      <th>Assets_M</th>\n",
              "      <td>42746.0</td>\n",
              "    </tr>\n",
              "    <tr>\n",
              "      <th>CEO</th>\n",
              "      <td>S.L. Karsanbhai</td>\n",
              "    </tr>\n",
              "    <tr>\n",
              "      <th>Country</th>\n",
              "      <td>U.S.</td>\n",
              "    </tr>\n",
              "    <tr>\n",
              "      <th>HeadquartersCity</th>\n",
              "      <td>St. Louis</td>\n",
              "    </tr>\n",
              "    <tr>\n",
              "      <th>HeadquartersState</th>\n",
              "      <td>Missouri</td>\n",
              "    </tr>\n",
              "    <tr>\n",
              "      <th>Website</th>\n",
              "      <td>https://www.emerson.com</td>\n",
              "    </tr>\n",
              "    <tr>\n",
              "      <th>CompanyType</th>\n",
              "      <td>Public</td>\n",
              "    </tr>\n",
              "    <tr>\n",
              "      <th>Footnote</th>\n",
              "      <td>Includes revenues from discontinued operations...</td>\n",
              "    </tr>\n",
              "    <tr>\n",
              "      <th>MarketCap_Updated_M</th>\n",
              "      <td>64842.0</td>\n",
              "    </tr>\n",
              "    <tr>\n",
              "      <th>Updated</th>\n",
              "      <td>2024-06-04</td>\n",
              "    </tr>\n",
              "    <tr>\n",
              "      <th>Profit Margin</th>\n",
              "      <td>0.719597</td>\n",
              "    </tr>\n",
              "  </tbody>\n",
              "</table>\n",
              "</div><br><label><b>dtype:</b> object</label>"
            ]
          },
          "metadata": {},
          "execution_count": 34
        }
      ]
    },
    {
      "cell_type": "markdown",
      "source": [
        "#### Which company has the lowest profit margin?"
      ],
      "metadata": {
        "id": "DLChlGamjg9y"
      }
    },
    {
      "cell_type": "code",
      "source": [
        "df.loc[df['Profit Margin'].idxmin()]"
      ],
      "metadata": {
        "colab": {
          "base_uri": "https://localhost:8080/",
          "height": 1000
        },
        "id": "7NXbfVs1jjtr",
        "outputId": "4ddd803a-406f-48e6-b4f0-238d802934fa"
      },
      "execution_count": 35,
      "outputs": [
        {
          "output_type": "execute_result",
          "data": {
            "text/plain": [
              "Company                                                     Moderna\n",
              "Ticker                                                         MRNA\n",
              "Sector                                                  Health Care\n",
              "Industry                                            Pharmaceuticals\n",
              "Profitable                                                       no\n",
              "Founder_is_CEO                                                   no\n",
              "FemaleCEO                                                        no\n",
              "Growth_in_Jobs                                                  yes\n",
              "Change_in_Rank                                               -307.0\n",
              "Gained_in_Rank                                                   no\n",
              "Dropped_in_Rank                                                 yes\n",
              "Global500                                                        no\n",
              "Worlds_Most_Admired_Companies                                   yes\n",
              "Best_Companies_to_Work_For                                       no\n",
              "Number_of_employees                                            5600\n",
              "MarketCap_March28_M                                         40799.7\n",
              "Revenues_M                                                   6848.0\n",
              "RevenuePercentChange                                          -64.5\n",
              "Profits_M                                                   -4714.0\n",
              "ProfitsPercentChange                                         -156.4\n",
              "Assets_M                                                    18426.0\n",
              "CEO                                                 St?phane Bancel\n",
              "Country                                                        U.S.\n",
              "HeadquartersCity                                          Cambridge\n",
              "HeadquartersState                                     Massachusetts\n",
              "Website                                   https://www.modernatx.com\n",
              "CompanyType                                                  Public\n",
              "Footnote                         Market value as of March 28, 2024.\n",
              "MarketCap_Updated_M                                         40800.0\n",
              "Updated                                                  2024-06-04\n",
              "Profit Margin                                             -0.688376\n",
              "Name: 518, dtype: object"
            ],
            "text/html": [
              "<div>\n",
              "<style scoped>\n",
              "    .dataframe tbody tr th:only-of-type {\n",
              "        vertical-align: middle;\n",
              "    }\n",
              "\n",
              "    .dataframe tbody tr th {\n",
              "        vertical-align: top;\n",
              "    }\n",
              "\n",
              "    .dataframe thead th {\n",
              "        text-align: right;\n",
              "    }\n",
              "</style>\n",
              "<table border=\"1\" class=\"dataframe\">\n",
              "  <thead>\n",
              "    <tr style=\"text-align: right;\">\n",
              "      <th></th>\n",
              "      <th>518</th>\n",
              "    </tr>\n",
              "  </thead>\n",
              "  <tbody>\n",
              "    <tr>\n",
              "      <th>Company</th>\n",
              "      <td>Moderna</td>\n",
              "    </tr>\n",
              "    <tr>\n",
              "      <th>Ticker</th>\n",
              "      <td>MRNA</td>\n",
              "    </tr>\n",
              "    <tr>\n",
              "      <th>Sector</th>\n",
              "      <td>Health Care</td>\n",
              "    </tr>\n",
              "    <tr>\n",
              "      <th>Industry</th>\n",
              "      <td>Pharmaceuticals</td>\n",
              "    </tr>\n",
              "    <tr>\n",
              "      <th>Profitable</th>\n",
              "      <td>no</td>\n",
              "    </tr>\n",
              "    <tr>\n",
              "      <th>Founder_is_CEO</th>\n",
              "      <td>no</td>\n",
              "    </tr>\n",
              "    <tr>\n",
              "      <th>FemaleCEO</th>\n",
              "      <td>no</td>\n",
              "    </tr>\n",
              "    <tr>\n",
              "      <th>Growth_in_Jobs</th>\n",
              "      <td>yes</td>\n",
              "    </tr>\n",
              "    <tr>\n",
              "      <th>Change_in_Rank</th>\n",
              "      <td>-307.0</td>\n",
              "    </tr>\n",
              "    <tr>\n",
              "      <th>Gained_in_Rank</th>\n",
              "      <td>no</td>\n",
              "    </tr>\n",
              "    <tr>\n",
              "      <th>Dropped_in_Rank</th>\n",
              "      <td>yes</td>\n",
              "    </tr>\n",
              "    <tr>\n",
              "      <th>Global500</th>\n",
              "      <td>no</td>\n",
              "    </tr>\n",
              "    <tr>\n",
              "      <th>Worlds_Most_Admired_Companies</th>\n",
              "      <td>yes</td>\n",
              "    </tr>\n",
              "    <tr>\n",
              "      <th>Best_Companies_to_Work_For</th>\n",
              "      <td>no</td>\n",
              "    </tr>\n",
              "    <tr>\n",
              "      <th>Number_of_employees</th>\n",
              "      <td>5600</td>\n",
              "    </tr>\n",
              "    <tr>\n",
              "      <th>MarketCap_March28_M</th>\n",
              "      <td>40799.7</td>\n",
              "    </tr>\n",
              "    <tr>\n",
              "      <th>Revenues_M</th>\n",
              "      <td>6848.0</td>\n",
              "    </tr>\n",
              "    <tr>\n",
              "      <th>RevenuePercentChange</th>\n",
              "      <td>-64.5</td>\n",
              "    </tr>\n",
              "    <tr>\n",
              "      <th>Profits_M</th>\n",
              "      <td>-4714.0</td>\n",
              "    </tr>\n",
              "    <tr>\n",
              "      <th>ProfitsPercentChange</th>\n",
              "      <td>-156.4</td>\n",
              "    </tr>\n",
              "    <tr>\n",
              "      <th>Assets_M</th>\n",
              "      <td>18426.0</td>\n",
              "    </tr>\n",
              "    <tr>\n",
              "      <th>CEO</th>\n",
              "      <td>St?phane Bancel</td>\n",
              "    </tr>\n",
              "    <tr>\n",
              "      <th>Country</th>\n",
              "      <td>U.S.</td>\n",
              "    </tr>\n",
              "    <tr>\n",
              "      <th>HeadquartersCity</th>\n",
              "      <td>Cambridge</td>\n",
              "    </tr>\n",
              "    <tr>\n",
              "      <th>HeadquartersState</th>\n",
              "      <td>Massachusetts</td>\n",
              "    </tr>\n",
              "    <tr>\n",
              "      <th>Website</th>\n",
              "      <td>https://www.modernatx.com</td>\n",
              "    </tr>\n",
              "    <tr>\n",
              "      <th>CompanyType</th>\n",
              "      <td>Public</td>\n",
              "    </tr>\n",
              "    <tr>\n",
              "      <th>Footnote</th>\n",
              "      <td>Market value as of March 28, 2024.</td>\n",
              "    </tr>\n",
              "    <tr>\n",
              "      <th>MarketCap_Updated_M</th>\n",
              "      <td>40800.0</td>\n",
              "    </tr>\n",
              "    <tr>\n",
              "      <th>Updated</th>\n",
              "      <td>2024-06-04</td>\n",
              "    </tr>\n",
              "    <tr>\n",
              "      <th>Profit Margin</th>\n",
              "      <td>-0.688376</td>\n",
              "    </tr>\n",
              "  </tbody>\n",
              "</table>\n",
              "</div><br><label><b>dtype:</b> object</label>"
            ]
          },
          "metadata": {},
          "execution_count": 35
        }
      ]
    },
    {
      "cell_type": "markdown",
      "source": [
        "#### How many companies have a profit margin greater than 20%?"
      ],
      "metadata": {
        "id": "jPqoeMRLjxCD"
      }
    },
    {
      "cell_type": "code",
      "source": [
        "df[df['Profit Margin'] > 0.2].shape[0]"
      ],
      "metadata": {
        "colab": {
          "base_uri": "https://localhost:8080/"
        },
        "id": "IzM7kYjTj05P",
        "outputId": "78dd8378-9a22-4d44-a741-7a352a1121e3"
      },
      "execution_count": 36,
      "outputs": [
        {
          "output_type": "execute_result",
          "data": {
            "text/plain": [
              "119"
            ]
          },
          "metadata": {},
          "execution_count": 36
        }
      ]
    },
    {
      "cell_type": "markdown",
      "source": [
        "#### Calculate the total number of companies that generated more than $10 billion in revenue."
      ],
      "metadata": {
        "id": "L8cYBkJPkDIo"
      }
    },
    {
      "cell_type": "code",
      "source": [
        "df[df['Revenues_M'] > 100000].shape[0]"
      ],
      "metadata": {
        "colab": {
          "base_uri": "https://localhost:8080/"
        },
        "id": "pyj3l82nkFrj",
        "outputId": "d984585c-d010-40cb-c76e-73dad05df1f6"
      },
      "execution_count": 37,
      "outputs": [
        {
          "output_type": "execute_result",
          "data": {
            "text/plain": [
              "33"
            ]
          },
          "metadata": {},
          "execution_count": 37
        }
      ]
    },
    {
      "cell_type": "markdown",
      "source": [
        "#### Identify the top 10 companies by profit."
      ],
      "metadata": {
        "id": "NH--Oc90lF6U"
      }
    },
    {
      "cell_type": "code",
      "source": [
        "df['Profits_M'].sort_values(ascending = False).head(10)"
      ],
      "metadata": {
        "colab": {
          "base_uri": "https://localhost:8080/",
          "height": 429
        },
        "id": "w7PMIW7LlKd5",
        "outputId": "ec4b923a-8b0e-467b-d25a-14e133cb42b6"
      },
      "execution_count": 38,
      "outputs": [
        {
          "output_type": "execute_result",
          "data": {
            "text/plain": [
              "Rank\n",
              "3     96995.0\n",
              "8     73795.0\n",
              "13    72361.0\n",
              "12    49552.0\n",
              "30    39098.0\n",
              "7     36010.0\n",
              "42    35153.0\n",
              "65    29760.0\n",
              "18    26515.0\n",
              "4     22381.0\n",
              "Name: Profits_M, dtype: float64"
            ],
            "text/html": [
              "<div>\n",
              "<style scoped>\n",
              "    .dataframe tbody tr th:only-of-type {\n",
              "        vertical-align: middle;\n",
              "    }\n",
              "\n",
              "    .dataframe tbody tr th {\n",
              "        vertical-align: top;\n",
              "    }\n",
              "\n",
              "    .dataframe thead th {\n",
              "        text-align: right;\n",
              "    }\n",
              "</style>\n",
              "<table border=\"1\" class=\"dataframe\">\n",
              "  <thead>\n",
              "    <tr style=\"text-align: right;\">\n",
              "      <th></th>\n",
              "      <th>Profits_M</th>\n",
              "    </tr>\n",
              "    <tr>\n",
              "      <th>Rank</th>\n",
              "      <th></th>\n",
              "    </tr>\n",
              "  </thead>\n",
              "  <tbody>\n",
              "    <tr>\n",
              "      <th>3</th>\n",
              "      <td>96995.0</td>\n",
              "    </tr>\n",
              "    <tr>\n",
              "      <th>8</th>\n",
              "      <td>73795.0</td>\n",
              "    </tr>\n",
              "    <tr>\n",
              "      <th>13</th>\n",
              "      <td>72361.0</td>\n",
              "    </tr>\n",
              "    <tr>\n",
              "      <th>12</th>\n",
              "      <td>49552.0</td>\n",
              "    </tr>\n",
              "    <tr>\n",
              "      <th>30</th>\n",
              "      <td>39098.0</td>\n",
              "    </tr>\n",
              "    <tr>\n",
              "      <th>7</th>\n",
              "      <td>36010.0</td>\n",
              "    </tr>\n",
              "    <tr>\n",
              "      <th>42</th>\n",
              "      <td>35153.0</td>\n",
              "    </tr>\n",
              "    <tr>\n",
              "      <th>65</th>\n",
              "      <td>29760.0</td>\n",
              "    </tr>\n",
              "    <tr>\n",
              "      <th>18</th>\n",
              "      <td>26515.0</td>\n",
              "    </tr>\n",
              "    <tr>\n",
              "      <th>4</th>\n",
              "      <td>22381.0</td>\n",
              "    </tr>\n",
              "  </tbody>\n",
              "</table>\n",
              "</div><br><label><b>dtype:</b> float64</label>"
            ]
          },
          "metadata": {},
          "execution_count": 38
        }
      ]
    },
    {
      "cell_type": "markdown",
      "source": [
        "#### How many companies have more than 100,000 employees?"
      ],
      "metadata": {
        "id": "PdzyPIjUmkh8"
      }
    },
    {
      "cell_type": "code",
      "source": [
        "df[df['Number_of_employees'] > 100000].shape[0]"
      ],
      "metadata": {
        "colab": {
          "base_uri": "https://localhost:8080/"
        },
        "id": "wm9qu5FRmnO_",
        "outputId": "697aadd7-79e3-4e61-c8dd-e1eda7eaabd0"
      },
      "execution_count": 39,
      "outputs": [
        {
          "output_type": "execute_result",
          "data": {
            "text/plain": [
              "67"
            ]
          },
          "metadata": {},
          "execution_count": 39
        }
      ]
    },
    {
      "cell_type": "markdown",
      "source": [
        "#### What is the average profit margin across all companies?"
      ],
      "metadata": {
        "id": "VMeuqd6xmz80"
      }
    },
    {
      "cell_type": "code",
      "source": [
        "df['Profit Margin'].mean()"
      ],
      "metadata": {
        "colab": {
          "base_uri": "https://localhost:8080/"
        },
        "id": "unyuuXLtm2aR",
        "outputId": "8edbf813-179d-4598-ce16-56ca6bc1b69d"
      },
      "execution_count": 40,
      "outputs": [
        {
          "output_type": "execute_result",
          "data": {
            "text/plain": [
              "0.10116510989448366"
            ]
          },
          "metadata": {},
          "execution_count": 40
        }
      ]
    },
    {
      "cell_type": "markdown",
      "source": [
        "#### What is the distribution of revenue across all companies?"
      ],
      "metadata": {
        "id": "5nKkHf6anLdO"
      }
    },
    {
      "cell_type": "code",
      "source": [
        "plt.figure(figsize=(10, 6))\n",
        "sns.histplot(df['Revenues_M'], bins=30, kde=True)\n",
        "plt.title('Distribution of Revenue')\n",
        "plt.xlabel('Revenue (in millions)')\n",
        "plt.ylabel('Frequency')\n",
        "plt.show()"
      ],
      "metadata": {
        "colab": {
          "base_uri": "https://localhost:8080/",
          "height": 564
        },
        "id": "UZbkJBwwEQBp",
        "outputId": "41d1ab3a-b759-46af-e672-7b6ef3ac89b2"
      },
      "execution_count": 46,
      "outputs": [
        {
          "output_type": "display_data",
          "data": {
            "text/plain": [
              "<Figure size 1000x600 with 1 Axes>"
            ],
            "image/png": "[encoded data removed]"
          },
          "metadata": {}
        }
      ]
    },
    {
      "cell_type": "markdown",
      "source": [
        "#### How does the distribution of profits vary among companies?"
      ],
      "metadata": {
        "id": "ioJieOLSGGfa"
      }
    },
    {
      "cell_type": "code",
      "source": [
        "plt.figure(figsize=(10, 6))\n",
        "sns.histplot(df['Profits_M'], bins=30, kde=True)\n",
        "plt.title('Distribution of Profits')\n",
        "plt.xlabel('Profit (in millions)')\n",
        "plt.ylabel('Frequency')\n",
        "plt.show()"
      ],
      "metadata": {
        "colab": {
          "base_uri": "https://localhost:8080/",
          "height": 564
        },
        "id": "Tcj-9MxjGMSs",
        "outputId": "be3b9c9a-e29e-48fc-e73d-c300f3ad4295"
      },
      "execution_count": 48,
      "outputs": [
        {
          "output_type": "display_data",
          "data": {
            "text/plain": [
              "<Figure size 1000x600 with 1 Axes>"
            ],
            "image/png": "[encoded data removed]"
          },
          "metadata": {}
        }
      ]
    },
    {
      "cell_type": "markdown",
      "source": [
        "#### Which companies have the highest revenue? Plot a bar chart for the top 10 companies."
      ],
      "metadata": {
        "id": "3RXnwSB0GXrA"
      }
    },
    {
      "cell_type": "code",
      "source": [
        "top_10_revenue = df.nlargest(10, 'Revenues_M')\n",
        "plt.figure(figsize=(12, 8))\n",
        "sns.barplot(x='Revenues_M', y='Company', data=top_10_revenue, palette='viridis')\n",
        "plt.title('Top 10 Companies by Revenue')\n",
        "plt.xlabel('Revenue (in millions)')\n",
        "plt.ylabel('Company')\n",
        "plt.show()"
      ],
      "metadata": {
        "colab": {
          "base_uri": "https://localhost:8080/",
          "height": 809
        },
        "id": "eZ8mFlNDGaPO",
        "outputId": "38630a56-615f-4ae2-ae0f-55357b218446"
      },
      "execution_count": 56,
      "outputs": [
        {
          "output_type": "stream",
          "name": "stderr",
          "text": [
            "<ipython-input-56-b08e306b5e3a>:3: FutureWarning: \n",
            "\n",
            "Passing `palette` without assigning `hue` is deprecated and will be removed in v0.14.0. Assign the `y` variable to `hue` and set `legend=False` for the same effect.\n",
            "\n",
            "  sns.barplot(x='Revenues_M', y='Company', data=top_10_revenue, palette='viridis')\n"
          ]
        },
        {
          "output_type": "display_data",
          "data": {
            "text/plain": [
              "<Figure size 1200x800 with 1 Axes>"
            ],
            "image/png": "[encoded data removed]"
          },
          "metadata": {}
        }
      ]
    },
    {
      "cell_type": "markdown",
      "source": [
        "#### Which companies have the highest profits? Plot a bar chart for the top 10 companies."
      ],
      "metadata": {
        "id": "tCzuNEriHfGi"
      }
    },
    {
      "cell_type": "code",
      "source": [
        "top_10_Profit = df.nlargest(10, 'Profits_M')\n",
        "plt.figure(figsize=(12, 8))\n",
        "sns.barplot(x='Profits_M', y='Company', data=top_10_Profit, palette='viridis')\n",
        "plt.title('Top 10 Companies by Profits')\n",
        "plt.xlabel('Profits (in millions)')\n",
        "plt.ylabel('Company')\n",
        "plt.show()"
      ],
      "metadata": {
        "colab": {
          "base_uri": "https://localhost:8080/",
          "height": 809
        },
        "id": "uS67OEUOHjBX",
        "outputId": "38ce414f-372b-4b3d-e5e0-bf4556216078"
      },
      "execution_count": 60,
      "outputs": [
        {
          "output_type": "stream",
          "name": "stderr",
          "text": [
            "<ipython-input-60-b8d4064b66c1>:3: FutureWarning: \n",
            "\n",
            "Passing `palette` without assigning `hue` is deprecated and will be removed in v0.14.0. Assign the `y` variable to `hue` and set `legend=False` for the same effect.\n",
            "\n",
            "  sns.barplot(x='Profits_M', y='Company', data=top_10_Profit, palette='viridis')\n"
          ]
        },
        {
          "output_type": "display_data",
          "data": {
            "text/plain": [
              "<Figure size 1200x800 with 1 Axes>"
            ],
            "image/png": "[encoded data removed]"
          },
          "metadata": {}
        }
      ]
    },
    {
      "cell_type": "markdown",
      "source": [
        "#### Show the average revenue by industry using a bar chart."
      ],
      "metadata": {
        "id": "avVWkYkOH3Ql"
      }
    }
  ]
}